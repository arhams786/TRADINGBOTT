{
 "cells": [
  {
   "cell_type": "code",
   "execution_count": 5,
   "metadata": {
    "colab": {
     "base_uri": "https://localhost:8080/"
    },
    "id": "8edSiKnF3xB2",
    "outputId": "c36c4ff0-7223-46bc-8e9b-afaca5e554bf"
   },
   "outputs": [
    {
     "name": "stdout",
     "output_type": "stream",
     "text": [
      "Requirement already satisfied: yfinance in ./opt/anaconda3/lib/python3.9/site-packages (0.1.67)\n",
      "Requirement already satisfied: requests>=2.20 in ./opt/anaconda3/lib/python3.9/site-packages (from yfinance) (2.26.0)\n",
      "Requirement already satisfied: multitasking>=0.0.7 in ./opt/anaconda3/lib/python3.9/site-packages (from yfinance) (0.0.10)\n",
      "Requirement already satisfied: lxml>=4.5.1 in ./opt/anaconda3/lib/python3.9/site-packages (from yfinance) (4.6.3)\n",
      "Requirement already satisfied: pandas>=0.24 in ./opt/anaconda3/lib/python3.9/site-packages (from yfinance) (1.3.4)\n",
      "Requirement already satisfied: numpy>=1.15 in ./opt/anaconda3/lib/python3.9/site-packages (from yfinance) (1.20.3)\n",
      "Requirement already satisfied: python-dateutil>=2.7.3 in ./opt/anaconda3/lib/python3.9/site-packages (from pandas>=0.24->yfinance) (2.8.2)\n",
      "Requirement already satisfied: pytz>=2017.3 in ./opt/anaconda3/lib/python3.9/site-packages (from pandas>=0.24->yfinance) (2021.3)\n",
      "Requirement already satisfied: six>=1.5 in ./opt/anaconda3/lib/python3.9/site-packages (from python-dateutil>=2.7.3->pandas>=0.24->yfinance) (1.16.0)\n",
      "Requirement already satisfied: charset-normalizer~=2.0.0 in ./opt/anaconda3/lib/python3.9/site-packages (from requests>=2.20->yfinance) (2.0.4)\n",
      "Requirement already satisfied: idna<4,>=2.5 in ./opt/anaconda3/lib/python3.9/site-packages (from requests>=2.20->yfinance) (3.2)\n",
      "Requirement already satisfied: certifi>=2017.4.17 in ./opt/anaconda3/lib/python3.9/site-packages (from requests>=2.20->yfinance) (2021.10.8)\n",
      "Requirement already satisfied: urllib3<1.27,>=1.21.1 in ./opt/anaconda3/lib/python3.9/site-packages (from requests>=2.20->yfinance) (1.26.7)\n"
     ]
    }
   ],
   "source": [
    "import pandas as pd\n",
    "!pip install yfinance\n",
    "import yfinance as yf\n",
    "import matplotlib.pyplot as plt\n"
   ]
  },
  {
   "cell_type": "code",
   "execution_count": 6,
   "metadata": {
    "colab": {
     "base_uri": "https://localhost:8080/"
    },
    "id": "1YkG2tK24TKJ",
    "outputId": "7a302523-1dbb-49c8-d36a-57e1cc407902"
   },
   "outputs": [
    {
     "name": "stdout",
     "output_type": "stream",
     "text": [
      "[*********************100%***********************]  1 of 1 completed\n"
     ]
    }
   ],
   "source": [
    "df=yf.download('AAPL',start='2019-01-01')\n"
   ]
  },
  {
   "cell_type": "code",
   "execution_count": 7,
   "metadata": {
    "colab": {
     "base_uri": "https://localhost:8080/",
     "height": 235
    },
    "id": "RYhHCCQ46TDC",
    "outputId": "b10b3746-5f01-43dd-84ee-e423052797a8"
   },
   "outputs": [
    {
     "data": {
      "text/html": [
       "<div>\n",
       "<style scoped>\n",
       "    .dataframe tbody tr th:only-of-type {\n",
       "        vertical-align: middle;\n",
       "    }\n",
       "\n",
       "    .dataframe tbody tr th {\n",
       "        vertical-align: top;\n",
       "    }\n",
       "\n",
       "    .dataframe thead th {\n",
       "        text-align: right;\n",
       "    }\n",
       "</style>\n",
       "<table border=\"1\" class=\"dataframe\">\n",
       "  <thead>\n",
       "    <tr style=\"text-align: right;\">\n",
       "      <th></th>\n",
       "      <th>Open</th>\n",
       "      <th>High</th>\n",
       "      <th>Low</th>\n",
       "      <th>Close</th>\n",
       "      <th>Adj Close</th>\n",
       "      <th>Volume</th>\n",
       "    </tr>\n",
       "    <tr>\n",
       "      <th>Date</th>\n",
       "      <th></th>\n",
       "      <th></th>\n",
       "      <th></th>\n",
       "      <th></th>\n",
       "      <th></th>\n",
       "      <th></th>\n",
       "    </tr>\n",
       "  </thead>\n",
       "  <tbody>\n",
       "    <tr>\n",
       "      <th>2018-12-31</th>\n",
       "      <td>39.632500</td>\n",
       "      <td>39.840000</td>\n",
       "      <td>39.119999</td>\n",
       "      <td>39.435001</td>\n",
       "      <td>38.282608</td>\n",
       "      <td>140014000</td>\n",
       "    </tr>\n",
       "    <tr>\n",
       "      <th>2019-01-02</th>\n",
       "      <td>38.722500</td>\n",
       "      <td>39.712502</td>\n",
       "      <td>38.557499</td>\n",
       "      <td>39.480000</td>\n",
       "      <td>38.326290</td>\n",
       "      <td>148158800</td>\n",
       "    </tr>\n",
       "    <tr>\n",
       "      <th>2019-01-03</th>\n",
       "      <td>35.994999</td>\n",
       "      <td>36.430000</td>\n",
       "      <td>35.500000</td>\n",
       "      <td>35.547501</td>\n",
       "      <td>34.508713</td>\n",
       "      <td>365248800</td>\n",
       "    </tr>\n",
       "    <tr>\n",
       "      <th>2019-01-04</th>\n",
       "      <td>36.132500</td>\n",
       "      <td>37.137501</td>\n",
       "      <td>35.950001</td>\n",
       "      <td>37.064999</td>\n",
       "      <td>35.981861</td>\n",
       "      <td>234428400</td>\n",
       "    </tr>\n",
       "    <tr>\n",
       "      <th>2019-01-07</th>\n",
       "      <td>37.174999</td>\n",
       "      <td>37.207500</td>\n",
       "      <td>36.474998</td>\n",
       "      <td>36.982498</td>\n",
       "      <td>35.901775</td>\n",
       "      <td>219111200</td>\n",
       "    </tr>\n",
       "  </tbody>\n",
       "</table>\n",
       "</div>"
      ],
      "text/plain": [
       "                 Open       High        Low      Close  Adj Close     Volume\n",
       "Date                                                                        \n",
       "2018-12-31  39.632500  39.840000  39.119999  39.435001  38.282608  140014000\n",
       "2019-01-02  38.722500  39.712502  38.557499  39.480000  38.326290  148158800\n",
       "2019-01-03  35.994999  36.430000  35.500000  35.547501  34.508713  365248800\n",
       "2019-01-04  36.132500  37.137501  35.950001  37.064999  35.981861  234428400\n",
       "2019-01-07  37.174999  37.207500  36.474998  36.982498  35.901775  219111200"
      ]
     },
     "execution_count": 7,
     "metadata": {},
     "output_type": "execute_result"
    }
   ],
   "source": [
    "df.head()"
   ]
  },
  {
   "cell_type": "code",
   "execution_count": 8,
   "metadata": {
    "colab": {
     "base_uri": "https://localhost:8080/",
     "height": 450
    },
    "id": "-HqOpqtsA52p",
    "outputId": "c3c1aff6-7a44-47c8-a098-17b8824109be"
   },
   "outputs": [
    {
     "data": {
      "text/html": [
       "<div>\n",
       "<style scoped>\n",
       "    .dataframe tbody tr th:only-of-type {\n",
       "        vertical-align: middle;\n",
       "    }\n",
       "\n",
       "    .dataframe tbody tr th {\n",
       "        vertical-align: top;\n",
       "    }\n",
       "\n",
       "    .dataframe thead th {\n",
       "        text-align: right;\n",
       "    }\n",
       "</style>\n",
       "<table border=\"1\" class=\"dataframe\">\n",
       "  <thead>\n",
       "    <tr style=\"text-align: right;\">\n",
       "      <th></th>\n",
       "      <th>Open</th>\n",
       "      <th>High</th>\n",
       "      <th>Low</th>\n",
       "      <th>Close</th>\n",
       "      <th>Adj Close</th>\n",
       "      <th>Volume</th>\n",
       "      <th>MA20</th>\n",
       "      <th>MA50</th>\n",
       "    </tr>\n",
       "    <tr>\n",
       "      <th>Date</th>\n",
       "      <th></th>\n",
       "      <th></th>\n",
       "      <th></th>\n",
       "      <th></th>\n",
       "      <th></th>\n",
       "      <th></th>\n",
       "      <th></th>\n",
       "      <th></th>\n",
       "    </tr>\n",
       "  </thead>\n",
       "  <tbody>\n",
       "    <tr>\n",
       "      <th>2018-12-31</th>\n",
       "      <td>39.632500</td>\n",
       "      <td>39.840000</td>\n",
       "      <td>39.119999</td>\n",
       "      <td>39.435001</td>\n",
       "      <td>38.282608</td>\n",
       "      <td>140014000</td>\n",
       "      <td>NaN</td>\n",
       "      <td>NaN</td>\n",
       "    </tr>\n",
       "    <tr>\n",
       "      <th>2019-01-02</th>\n",
       "      <td>38.722500</td>\n",
       "      <td>39.712502</td>\n",
       "      <td>38.557499</td>\n",
       "      <td>39.480000</td>\n",
       "      <td>38.326290</td>\n",
       "      <td>148158800</td>\n",
       "      <td>NaN</td>\n",
       "      <td>NaN</td>\n",
       "    </tr>\n",
       "    <tr>\n",
       "      <th>2019-01-03</th>\n",
       "      <td>35.994999</td>\n",
       "      <td>36.430000</td>\n",
       "      <td>35.500000</td>\n",
       "      <td>35.547501</td>\n",
       "      <td>34.508713</td>\n",
       "      <td>365248800</td>\n",
       "      <td>NaN</td>\n",
       "      <td>NaN</td>\n",
       "    </tr>\n",
       "    <tr>\n",
       "      <th>2019-01-04</th>\n",
       "      <td>36.132500</td>\n",
       "      <td>37.137501</td>\n",
       "      <td>35.950001</td>\n",
       "      <td>37.064999</td>\n",
       "      <td>35.981861</td>\n",
       "      <td>234428400</td>\n",
       "      <td>NaN</td>\n",
       "      <td>NaN</td>\n",
       "    </tr>\n",
       "    <tr>\n",
       "      <th>2019-01-07</th>\n",
       "      <td>37.174999</td>\n",
       "      <td>37.207500</td>\n",
       "      <td>36.474998</td>\n",
       "      <td>36.982498</td>\n",
       "      <td>35.901775</td>\n",
       "      <td>219111200</td>\n",
       "      <td>NaN</td>\n",
       "      <td>NaN</td>\n",
       "    </tr>\n",
       "    <tr>\n",
       "      <th>...</th>\n",
       "      <td>...</td>\n",
       "      <td>...</td>\n",
       "      <td>...</td>\n",
       "      <td>...</td>\n",
       "      <td>...</td>\n",
       "      <td>...</td>\n",
       "      <td>...</td>\n",
       "      <td>...</td>\n",
       "    </tr>\n",
       "    <tr>\n",
       "      <th>2021-12-14</th>\n",
       "      <td>175.250000</td>\n",
       "      <td>177.740005</td>\n",
       "      <td>172.210007</td>\n",
       "      <td>174.330002</td>\n",
       "      <td>174.330002</td>\n",
       "      <td>139380400</td>\n",
       "      <td>164.783001</td>\n",
       "      <td>154.310588</td>\n",
       "    </tr>\n",
       "    <tr>\n",
       "      <th>2021-12-15</th>\n",
       "      <td>175.110001</td>\n",
       "      <td>179.500000</td>\n",
       "      <td>172.309998</td>\n",
       "      <td>179.300003</td>\n",
       "      <td>179.300003</td>\n",
       "      <td>131063300</td>\n",
       "      <td>166.198001</td>\n",
       "      <td>155.078501</td>\n",
       "    </tr>\n",
       "    <tr>\n",
       "      <th>2021-12-16</th>\n",
       "      <td>179.279999</td>\n",
       "      <td>181.139999</td>\n",
       "      <td>170.750000</td>\n",
       "      <td>172.259995</td>\n",
       "      <td>172.259995</td>\n",
       "      <td>150185800</td>\n",
       "      <td>167.136501</td>\n",
       "      <td>155.687840</td>\n",
       "    </tr>\n",
       "    <tr>\n",
       "      <th>2021-12-17</th>\n",
       "      <td>169.929993</td>\n",
       "      <td>173.470001</td>\n",
       "      <td>169.690002</td>\n",
       "      <td>171.139999</td>\n",
       "      <td>171.139999</td>\n",
       "      <td>195432700</td>\n",
       "      <td>167.800001</td>\n",
       "      <td>156.249016</td>\n",
       "    </tr>\n",
       "    <tr>\n",
       "      <th>2021-12-20</th>\n",
       "      <td>168.279999</td>\n",
       "      <td>170.580002</td>\n",
       "      <td>167.470001</td>\n",
       "      <td>169.622604</td>\n",
       "      <td>169.622604</td>\n",
       "      <td>66343844</td>\n",
       "      <td>168.253631</td>\n",
       "      <td>156.787633</td>\n",
       "    </tr>\n",
       "  </tbody>\n",
       "</table>\n",
       "<p>750 rows × 8 columns</p>\n",
       "</div>"
      ],
      "text/plain": [
       "                  Open        High         Low       Close   Adj Close  \\\n",
       "Date                                                                     \n",
       "2018-12-31   39.632500   39.840000   39.119999   39.435001   38.282608   \n",
       "2019-01-02   38.722500   39.712502   38.557499   39.480000   38.326290   \n",
       "2019-01-03   35.994999   36.430000   35.500000   35.547501   34.508713   \n",
       "2019-01-04   36.132500   37.137501   35.950001   37.064999   35.981861   \n",
       "2019-01-07   37.174999   37.207500   36.474998   36.982498   35.901775   \n",
       "...                ...         ...         ...         ...         ...   \n",
       "2021-12-14  175.250000  177.740005  172.210007  174.330002  174.330002   \n",
       "2021-12-15  175.110001  179.500000  172.309998  179.300003  179.300003   \n",
       "2021-12-16  179.279999  181.139999  170.750000  172.259995  172.259995   \n",
       "2021-12-17  169.929993  173.470001  169.690002  171.139999  171.139999   \n",
       "2021-12-20  168.279999  170.580002  167.470001  169.622604  169.622604   \n",
       "\n",
       "               Volume        MA20        MA50  \n",
       "Date                                           \n",
       "2018-12-31  140014000         NaN         NaN  \n",
       "2019-01-02  148158800         NaN         NaN  \n",
       "2019-01-03  365248800         NaN         NaN  \n",
       "2019-01-04  234428400         NaN         NaN  \n",
       "2019-01-07  219111200         NaN         NaN  \n",
       "...               ...         ...         ...  \n",
       "2021-12-14  139380400  164.783001  154.310588  \n",
       "2021-12-15  131063300  166.198001  155.078501  \n",
       "2021-12-16  150185800  167.136501  155.687840  \n",
       "2021-12-17  195432700  167.800001  156.249016  \n",
       "2021-12-20   66343844  168.253631  156.787633  \n",
       "\n",
       "[750 rows x 8 columns]"
      ]
     },
     "execution_count": 8,
     "metadata": {},
     "output_type": "execute_result"
    }
   ],
   "source": [
    "df['MA20']=df['Adj Close'].rolling(20).mean()\n",
    "df['MA50']=df['Adj Close'].rolling(50).mean()\n",
    "df"
   ]
  },
  {
   "cell_type": "code",
   "execution_count": 9,
   "metadata": {
    "colab": {
     "base_uri": "https://localhost:8080/",
     "height": 450
    },
    "id": "j5D4HBH7EcaY",
    "outputId": "847f44b3-a8d8-4ec7-c567-fbf35f1c289f"
   },
   "outputs": [
    {
     "data": {
      "text/html": [
       "<div>\n",
       "<style scoped>\n",
       "    .dataframe tbody tr th:only-of-type {\n",
       "        vertical-align: middle;\n",
       "    }\n",
       "\n",
       "    .dataframe tbody tr th {\n",
       "        vertical-align: top;\n",
       "    }\n",
       "\n",
       "    .dataframe thead th {\n",
       "        text-align: right;\n",
       "    }\n",
       "</style>\n",
       "<table border=\"1\" class=\"dataframe\">\n",
       "  <thead>\n",
       "    <tr style=\"text-align: right;\">\n",
       "      <th></th>\n",
       "      <th>Open</th>\n",
       "      <th>High</th>\n",
       "      <th>Low</th>\n",
       "      <th>Close</th>\n",
       "      <th>Adj Close</th>\n",
       "      <th>Volume</th>\n",
       "      <th>MA20</th>\n",
       "      <th>MA50</th>\n",
       "    </tr>\n",
       "    <tr>\n",
       "      <th>Date</th>\n",
       "      <th></th>\n",
       "      <th></th>\n",
       "      <th></th>\n",
       "      <th></th>\n",
       "      <th></th>\n",
       "      <th></th>\n",
       "      <th></th>\n",
       "      <th></th>\n",
       "    </tr>\n",
       "  </thead>\n",
       "  <tbody>\n",
       "    <tr>\n",
       "      <th>2019-03-13</th>\n",
       "      <td>45.562500</td>\n",
       "      <td>45.825001</td>\n",
       "      <td>45.230000</td>\n",
       "      <td>45.427502</td>\n",
       "      <td>44.289135</td>\n",
       "      <td>124130000</td>\n",
       "      <td>42.443685</td>\n",
       "      <td>40.107607</td>\n",
       "    </tr>\n",
       "    <tr>\n",
       "      <th>2019-03-14</th>\n",
       "      <td>45.974998</td>\n",
       "      <td>46.025002</td>\n",
       "      <td>45.639999</td>\n",
       "      <td>45.932499</td>\n",
       "      <td>44.781471</td>\n",
       "      <td>94318000</td>\n",
       "      <td>42.608815</td>\n",
       "      <td>40.237585</td>\n",
       "    </tr>\n",
       "    <tr>\n",
       "      <th>2019-03-15</th>\n",
       "      <td>46.212502</td>\n",
       "      <td>46.832500</td>\n",
       "      <td>45.935001</td>\n",
       "      <td>46.529999</td>\n",
       "      <td>45.364006</td>\n",
       "      <td>156171600</td>\n",
       "      <td>42.795517</td>\n",
       "      <td>40.378339</td>\n",
       "    </tr>\n",
       "    <tr>\n",
       "      <th>2019-03-18</th>\n",
       "      <td>46.450001</td>\n",
       "      <td>47.097500</td>\n",
       "      <td>46.447498</td>\n",
       "      <td>47.005001</td>\n",
       "      <td>45.827099</td>\n",
       "      <td>104879200</td>\n",
       "      <td>43.010004</td>\n",
       "      <td>40.604707</td>\n",
       "    </tr>\n",
       "    <tr>\n",
       "      <th>2019-03-19</th>\n",
       "      <td>47.087502</td>\n",
       "      <td>47.247501</td>\n",
       "      <td>46.480000</td>\n",
       "      <td>46.632500</td>\n",
       "      <td>45.463928</td>\n",
       "      <td>126585600</td>\n",
       "      <td>43.200118</td>\n",
       "      <td>40.794348</td>\n",
       "    </tr>\n",
       "    <tr>\n",
       "      <th>...</th>\n",
       "      <td>...</td>\n",
       "      <td>...</td>\n",
       "      <td>...</td>\n",
       "      <td>...</td>\n",
       "      <td>...</td>\n",
       "      <td>...</td>\n",
       "      <td>...</td>\n",
       "      <td>...</td>\n",
       "    </tr>\n",
       "    <tr>\n",
       "      <th>2021-12-14</th>\n",
       "      <td>175.250000</td>\n",
       "      <td>177.740005</td>\n",
       "      <td>172.210007</td>\n",
       "      <td>174.330002</td>\n",
       "      <td>174.330002</td>\n",
       "      <td>139380400</td>\n",
       "      <td>164.783001</td>\n",
       "      <td>154.310588</td>\n",
       "    </tr>\n",
       "    <tr>\n",
       "      <th>2021-12-15</th>\n",
       "      <td>175.110001</td>\n",
       "      <td>179.500000</td>\n",
       "      <td>172.309998</td>\n",
       "      <td>179.300003</td>\n",
       "      <td>179.300003</td>\n",
       "      <td>131063300</td>\n",
       "      <td>166.198001</td>\n",
       "      <td>155.078501</td>\n",
       "    </tr>\n",
       "    <tr>\n",
       "      <th>2021-12-16</th>\n",
       "      <td>179.279999</td>\n",
       "      <td>181.139999</td>\n",
       "      <td>170.750000</td>\n",
       "      <td>172.259995</td>\n",
       "      <td>172.259995</td>\n",
       "      <td>150185800</td>\n",
       "      <td>167.136501</td>\n",
       "      <td>155.687840</td>\n",
       "    </tr>\n",
       "    <tr>\n",
       "      <th>2021-12-17</th>\n",
       "      <td>169.929993</td>\n",
       "      <td>173.470001</td>\n",
       "      <td>169.690002</td>\n",
       "      <td>171.139999</td>\n",
       "      <td>171.139999</td>\n",
       "      <td>195432700</td>\n",
       "      <td>167.800001</td>\n",
       "      <td>156.249016</td>\n",
       "    </tr>\n",
       "    <tr>\n",
       "      <th>2021-12-20</th>\n",
       "      <td>168.279999</td>\n",
       "      <td>170.580002</td>\n",
       "      <td>167.470001</td>\n",
       "      <td>169.622604</td>\n",
       "      <td>169.622604</td>\n",
       "      <td>66343844</td>\n",
       "      <td>168.253631</td>\n",
       "      <td>156.787633</td>\n",
       "    </tr>\n",
       "  </tbody>\n",
       "</table>\n",
       "<p>701 rows × 8 columns</p>\n",
       "</div>"
      ],
      "text/plain": [
       "                  Open        High         Low       Close   Adj Close  \\\n",
       "Date                                                                     \n",
       "2019-03-13   45.562500   45.825001   45.230000   45.427502   44.289135   \n",
       "2019-03-14   45.974998   46.025002   45.639999   45.932499   44.781471   \n",
       "2019-03-15   46.212502   46.832500   45.935001   46.529999   45.364006   \n",
       "2019-03-18   46.450001   47.097500   46.447498   47.005001   45.827099   \n",
       "2019-03-19   47.087502   47.247501   46.480000   46.632500   45.463928   \n",
       "...                ...         ...         ...         ...         ...   \n",
       "2021-12-14  175.250000  177.740005  172.210007  174.330002  174.330002   \n",
       "2021-12-15  175.110001  179.500000  172.309998  179.300003  179.300003   \n",
       "2021-12-16  179.279999  181.139999  170.750000  172.259995  172.259995   \n",
       "2021-12-17  169.929993  173.470001  169.690002  171.139999  171.139999   \n",
       "2021-12-20  168.279999  170.580002  167.470001  169.622604  169.622604   \n",
       "\n",
       "               Volume        MA20        MA50  \n",
       "Date                                           \n",
       "2019-03-13  124130000   42.443685   40.107607  \n",
       "2019-03-14   94318000   42.608815   40.237585  \n",
       "2019-03-15  156171600   42.795517   40.378339  \n",
       "2019-03-18  104879200   43.010004   40.604707  \n",
       "2019-03-19  126585600   43.200118   40.794348  \n",
       "...               ...         ...         ...  \n",
       "2021-12-14  139380400  164.783001  154.310588  \n",
       "2021-12-15  131063300  166.198001  155.078501  \n",
       "2021-12-16  150185800  167.136501  155.687840  \n",
       "2021-12-17  195432700  167.800001  156.249016  \n",
       "2021-12-20   66343844  168.253631  156.787633  \n",
       "\n",
       "[701 rows x 8 columns]"
      ]
     },
     "execution_count": 9,
     "metadata": {},
     "output_type": "execute_result"
    }
   ],
   "source": [
    "df=df.dropna()\n",
    "df"
   ]
  },
  {
   "cell_type": "code",
   "execution_count": 10,
   "metadata": {
    "colab": {
     "base_uri": "https://localhost:8080/",
     "height": 450
    },
    "id": "oaa8MQLDEhqa",
    "outputId": "a4156ec6-0236-45eb-e1f0-30f71f109502"
   },
   "outputs": [
    {
     "data": {
      "text/html": [
       "<div>\n",
       "<style scoped>\n",
       "    .dataframe tbody tr th:only-of-type {\n",
       "        vertical-align: middle;\n",
       "    }\n",
       "\n",
       "    .dataframe tbody tr th {\n",
       "        vertical-align: top;\n",
       "    }\n",
       "\n",
       "    .dataframe thead th {\n",
       "        text-align: right;\n",
       "    }\n",
       "</style>\n",
       "<table border=\"1\" class=\"dataframe\">\n",
       "  <thead>\n",
       "    <tr style=\"text-align: right;\">\n",
       "      <th></th>\n",
       "      <th>Adj Close</th>\n",
       "      <th>MA20</th>\n",
       "      <th>MA50</th>\n",
       "    </tr>\n",
       "    <tr>\n",
       "      <th>Date</th>\n",
       "      <th></th>\n",
       "      <th></th>\n",
       "      <th></th>\n",
       "    </tr>\n",
       "  </thead>\n",
       "  <tbody>\n",
       "    <tr>\n",
       "      <th>2019-03-13</th>\n",
       "      <td>44.289135</td>\n",
       "      <td>42.443685</td>\n",
       "      <td>40.107607</td>\n",
       "    </tr>\n",
       "    <tr>\n",
       "      <th>2019-03-14</th>\n",
       "      <td>44.781471</td>\n",
       "      <td>42.608815</td>\n",
       "      <td>40.237585</td>\n",
       "    </tr>\n",
       "    <tr>\n",
       "      <th>2019-03-15</th>\n",
       "      <td>45.364006</td>\n",
       "      <td>42.795517</td>\n",
       "      <td>40.378339</td>\n",
       "    </tr>\n",
       "    <tr>\n",
       "      <th>2019-03-18</th>\n",
       "      <td>45.827099</td>\n",
       "      <td>43.010004</td>\n",
       "      <td>40.604707</td>\n",
       "    </tr>\n",
       "    <tr>\n",
       "      <th>2019-03-19</th>\n",
       "      <td>45.463928</td>\n",
       "      <td>43.200118</td>\n",
       "      <td>40.794348</td>\n",
       "    </tr>\n",
       "    <tr>\n",
       "      <th>...</th>\n",
       "      <td>...</td>\n",
       "      <td>...</td>\n",
       "      <td>...</td>\n",
       "    </tr>\n",
       "    <tr>\n",
       "      <th>2021-12-14</th>\n",
       "      <td>174.330002</td>\n",
       "      <td>164.783001</td>\n",
       "      <td>154.310588</td>\n",
       "    </tr>\n",
       "    <tr>\n",
       "      <th>2021-12-15</th>\n",
       "      <td>179.300003</td>\n",
       "      <td>166.198001</td>\n",
       "      <td>155.078501</td>\n",
       "    </tr>\n",
       "    <tr>\n",
       "      <th>2021-12-16</th>\n",
       "      <td>172.259995</td>\n",
       "      <td>167.136501</td>\n",
       "      <td>155.687840</td>\n",
       "    </tr>\n",
       "    <tr>\n",
       "      <th>2021-12-17</th>\n",
       "      <td>171.139999</td>\n",
       "      <td>167.800001</td>\n",
       "      <td>156.249016</td>\n",
       "    </tr>\n",
       "    <tr>\n",
       "      <th>2021-12-20</th>\n",
       "      <td>169.622604</td>\n",
       "      <td>168.253631</td>\n",
       "      <td>156.787633</td>\n",
       "    </tr>\n",
       "  </tbody>\n",
       "</table>\n",
       "<p>701 rows × 3 columns</p>\n",
       "</div>"
      ],
      "text/plain": [
       "             Adj Close        MA20        MA50\n",
       "Date                                          \n",
       "2019-03-13   44.289135   42.443685   40.107607\n",
       "2019-03-14   44.781471   42.608815   40.237585\n",
       "2019-03-15   45.364006   42.795517   40.378339\n",
       "2019-03-18   45.827099   43.010004   40.604707\n",
       "2019-03-19   45.463928   43.200118   40.794348\n",
       "...                ...         ...         ...\n",
       "2021-12-14  174.330002  164.783001  154.310588\n",
       "2021-12-15  179.300003  166.198001  155.078501\n",
       "2021-12-16  172.259995  167.136501  155.687840\n",
       "2021-12-17  171.139999  167.800001  156.249016\n",
       "2021-12-20  169.622604  168.253631  156.787633\n",
       "\n",
       "[701 rows x 3 columns]"
      ]
     },
     "execution_count": 10,
     "metadata": {},
     "output_type": "execute_result"
    }
   ],
   "source": [
    "df=df[['Adj Close','MA20','MA50']]\n",
    "df"
   ]
  },
  {
   "cell_type": "code",
   "execution_count": 11,
   "metadata": {
    "id": "UElBGnoOFz6a"
   },
   "outputs": [],
   "source": [
    "Buy=[]\n",
    "Sell=[]\n",
    "for i in range(len(df)):\n",
    "  if df.MA20.iloc[i] > df.MA50.iloc[i] and df.MA20.iloc[i-1] < df.MA50.iloc[i-1]:\n",
    "    Buy.append(i)\n",
    "  elif df.MA20.iloc[i] < df.MA50.iloc[i] and df.MA20.iloc[i-1] > df.MA50.iloc[i-1]:\n",
    "    Sell.append(i)\n"
   ]
  },
  {
   "cell_type": "code",
   "execution_count": 12,
   "metadata": {
    "colab": {
     "base_uri": "https://localhost:8080/"
    },
    "id": "ux7qTr6oSgnZ",
    "outputId": "7d17292b-c730-4dc9-8e08-a758f63b8d34"
   },
   "outputs": [
    {
     "data": {
      "text/plain": [
       "[76, 286, 418, 529, 578, 669]"
      ]
     },
     "execution_count": 12,
     "metadata": {},
     "output_type": "execute_result"
    }
   ],
   "source": [
    "Buy"
   ]
  },
  {
   "cell_type": "code",
   "execution_count": 13,
   "metadata": {
    "colab": {
     "base_uri": "https://localhost:8080/"
    },
    "id": "NoU5J3acTIfh",
    "outputId": "5ba976df-ef74-41d1-ade6-bde51cfc98de"
   },
   "outputs": [
    {
     "data": {
      "text/plain": [
       "[51, 248, 394, 494, 556, 645]"
      ]
     },
     "execution_count": 13,
     "metadata": {},
     "output_type": "execute_result"
    }
   ],
   "source": [
    "Sell"
   ]
  },
  {
   "cell_type": "code",
   "execution_count": 14,
   "metadata": {
    "colab": {
     "base_uri": "https://localhost:8080/",
     "height": 320
    },
    "id": "cU_tdg1BTJ7M",
    "outputId": "d811d2a1-2387-4b40-c394-eb5ab9d311d5"
   },
   "outputs": [
    {
     "data": {
      "image/png": "[encoded data removed]",
      "text/plain": [
       "<Figure size 864x360 with 1 Axes>"
      ]
     },
     "metadata": {
      "needs_background": "light"
     },
     "output_type": "display_data"
    }
   ],
   "source": [
    "plt.figure(figsize=(12,5))\n",
    "plt.plot(df['Adj Close'], label='Asset Price' , c='blue', alpha=0.5)\n",
    "plt.plot(df['MA20'] ,label='MA20', c='black', alpha=0.9)\n",
    "plt.plot(df['MA50'] , label='MA50', c='magenta', alpha=0.9)\n",
    "plt.scatter(df.iloc[Buy].index, df.iloc[Buy]['Adj Close'] , marker='^' , color='green', s=100)\n",
    "plt.scatter(df.iloc[Sell].index, df.iloc[Sell]['Adj Close'] , marker='v' , color='red', s=100)\n",
    "plt.legend()\n",
    "plt.show()"
   ]
  },
  {
   "cell_type": "code",
   "execution_count": 15,
   "metadata": {
    "id": "AyBwpuiNYBng"
   },
   "outputs": [],
   "source": [
    "excel=pd.read_csv(\"stock.csv\")"
   ]
  },
  {
   "cell_type": "code",
   "execution_count": 16,
   "metadata": {},
   "outputs": [
    {
     "data": {
      "text/html": [
       "<div>\n",
       "<style scoped>\n",
       "    .dataframe tbody tr th:only-of-type {\n",
       "        vertical-align: middle;\n",
       "    }\n",
       "\n",
       "    .dataframe tbody tr th {\n",
       "        vertical-align: top;\n",
       "    }\n",
       "\n",
       "    .dataframe thead th {\n",
       "        text-align: right;\n",
       "    }\n",
       "</style>\n",
       "<table border=\"1\" class=\"dataframe\">\n",
       "  <thead>\n",
       "    <tr style=\"text-align: right;\">\n",
       "      <th></th>\n",
       "      <th>Date</th>\n",
       "      <th>AAPL</th>\n",
       "      <th>BA</th>\n",
       "      <th>T</th>\n",
       "      <th>MGM</th>\n",
       "      <th>AMZN</th>\n",
       "      <th>IBM</th>\n",
       "      <th>TSLA</th>\n",
       "      <th>GOOG</th>\n",
       "      <th>sp500</th>\n",
       "    </tr>\n",
       "  </thead>\n",
       "  <tbody>\n",
       "    <tr>\n",
       "      <th>0</th>\n",
       "      <td>12-01-2012</td>\n",
       "      <td>60.198570</td>\n",
       "      <td>75.510002</td>\n",
       "      <td>30.120001</td>\n",
       "      <td>12.13</td>\n",
       "      <td>175.929993</td>\n",
       "      <td>180.550003</td>\n",
       "      <td>28.250000</td>\n",
       "      <td>313.644379</td>\n",
       "      <td>1295.500000</td>\n",
       "    </tr>\n",
       "    <tr>\n",
       "      <th>1</th>\n",
       "      <td>13-01-2012</td>\n",
       "      <td>59.972858</td>\n",
       "      <td>74.599998</td>\n",
       "      <td>30.070000</td>\n",
       "      <td>12.35</td>\n",
       "      <td>178.419998</td>\n",
       "      <td>179.160004</td>\n",
       "      <td>22.790001</td>\n",
       "      <td>311.328064</td>\n",
       "      <td>1289.089966</td>\n",
       "    </tr>\n",
       "    <tr>\n",
       "      <th>2</th>\n",
       "      <td>17-01-2012</td>\n",
       "      <td>60.671429</td>\n",
       "      <td>75.239998</td>\n",
       "      <td>30.250000</td>\n",
       "      <td>12.25</td>\n",
       "      <td>181.660004</td>\n",
       "      <td>180.000000</td>\n",
       "      <td>26.600000</td>\n",
       "      <td>313.116364</td>\n",
       "      <td>1293.670044</td>\n",
       "    </tr>\n",
       "    <tr>\n",
       "      <th>3</th>\n",
       "      <td>18-01-2012</td>\n",
       "      <td>61.301430</td>\n",
       "      <td>75.059998</td>\n",
       "      <td>30.330000</td>\n",
       "      <td>12.73</td>\n",
       "      <td>189.440002</td>\n",
       "      <td>181.070007</td>\n",
       "      <td>26.809999</td>\n",
       "      <td>315.273285</td>\n",
       "      <td>1308.040039</td>\n",
       "    </tr>\n",
       "    <tr>\n",
       "      <th>4</th>\n",
       "      <td>19-01-2012</td>\n",
       "      <td>61.107143</td>\n",
       "      <td>75.559998</td>\n",
       "      <td>30.420000</td>\n",
       "      <td>12.80</td>\n",
       "      <td>194.449997</td>\n",
       "      <td>180.520004</td>\n",
       "      <td>26.760000</td>\n",
       "      <td>318.590851</td>\n",
       "      <td>1314.500000</td>\n",
       "    </tr>\n",
       "  </tbody>\n",
       "</table>\n",
       "</div>"
      ],
      "text/plain": [
       "         Date       AAPL         BA          T    MGM        AMZN         IBM  \\\n",
       "0  12-01-2012  60.198570  75.510002  30.120001  12.13  175.929993  180.550003   \n",
       "1  13-01-2012  59.972858  74.599998  30.070000  12.35  178.419998  179.160004   \n",
       "2  17-01-2012  60.671429  75.239998  30.250000  12.25  181.660004  180.000000   \n",
       "3  18-01-2012  61.301430  75.059998  30.330000  12.73  189.440002  181.070007   \n",
       "4  19-01-2012  61.107143  75.559998  30.420000  12.80  194.449997  180.520004   \n",
       "\n",
       "        TSLA        GOOG        sp500  \n",
       "0  28.250000  313.644379  1295.500000  \n",
       "1  22.790001  311.328064  1289.089966  \n",
       "2  26.600000  313.116364  1293.670044  \n",
       "3  26.809999  315.273285  1308.040039  \n",
       "4  26.760000  318.590851  1314.500000  "
      ]
     },
     "execution_count": 16,
     "metadata": {},
     "output_type": "execute_result"
    }
   ],
   "source": [
    "excel.head()"
   ]
  },
  {
   "cell_type": "markdown",
   "metadata": {},
   "source": [
    "calculating sharpe ratio"
   ]
  },
  {
   "cell_type": "code",
   "execution_count": 36,
   "metadata": {},
   "outputs": [
    {
     "data": {
      "image/png": "[encoded data removed]",
      "text/plain": [
       "<Figure size 432x288 with 1 Axes>"
      ]
     },
     "metadata": {},
     "output_type": "display_data"
    }
   ],
   "source": [
    "# excel[\"Date\"]=pd.to_datetime(excel[\"Date\"])\n",
    "# timeperiod=2159 #no of rows in the excel\n",
    "# excel['AAPLret']=100*(excel[\"AAPL\"]/excel[\"AAPL\"].shift(timeperiod) - 1)\n",
    "# excel['BAret']=100*(excel[\"BA\"]/excel[\"BA\"].shift(timeperiod) - 1)\n",
    "\n",
    "# excel[\"AAPLstd\"]=excel[\"AAPLret\"].rolling(timeperiod).std()\n",
    "# excel[\"BAstd\"]=excel[\"BAret\"].rolling(timeperiod).std()\n",
    "\n",
    "\n",
    "# excel[\"AAPLsharpe\"]=excel[\"AAPLret\"]/excel[\"AAPLstd\"]\n",
    "# excel[\"BAsharpe\"]=excel[\"BAret\"]/excel[\"BAstd\"]\n",
    "\n",
    "\n",
    "# plt.plot(excel[\"Date\"], excel[\"AAPLsharpe\"],label=\"AAPL\")\n",
    "# plt.plot(excel[\"Date\"], excel[\"BAsharpe\"],label=\"BA\")\n",
    "# plt.legend()\n",
    "# plt.show()\n",
    "\n",
    "\n",
    "\n",
    "\n",
    "\n",
    "\n",
    "\n"
   ]
  },
  {
   "cell_type": "markdown",
   "metadata": {},
   "source": [
    "calculating sortino ratio"
   ]
  },
  {
   "cell_type": "code",
   "execution_count": 102,
   "metadata": {},
   "outputs": [
    {
     "data": {
      "text/html": [
       "<div>\n",
       "<style scoped>\n",
       "    .dataframe tbody tr th:only-of-type {\n",
       "        vertical-align: middle;\n",
       "    }\n",
       "\n",
       "    .dataframe tbody tr th {\n",
       "        vertical-align: top;\n",
       "    }\n",
       "\n",
       "    .dataframe thead th {\n",
       "        text-align: right;\n",
       "    }\n",
       "</style>\n",
       "<table border=\"1\" class=\"dataframe\">\n",
       "  <thead>\n",
       "    <tr style=\"text-align: right;\">\n",
       "      <th></th>\n",
       "      <th>Date</th>\n",
       "      <th>AAPL</th>\n",
       "      <th>BA</th>\n",
       "      <th>T</th>\n",
       "      <th>MGM</th>\n",
       "      <th>AMZN</th>\n",
       "      <th>IBM</th>\n",
       "      <th>TSLA</th>\n",
       "      <th>GOOG</th>\n",
       "      <th>sp500</th>\n",
       "      <th>...</th>\n",
       "      <th>dd</th>\n",
       "      <th>ddAAPL</th>\n",
       "      <th>dailybench_return</th>\n",
       "      <th>daily_returnBA</th>\n",
       "      <th>daily_returnT</th>\n",
       "      <th>daily_returnMGM</th>\n",
       "      <th>daily_returnAMZN</th>\n",
       "      <th>daily_returnIBM</th>\n",
       "      <th>daily_returnTSLA</th>\n",
       "      <th>daily_returnGOOG</th>\n",
       "    </tr>\n",
       "  </thead>\n",
       "  <tbody>\n",
       "    <tr>\n",
       "      <th>0</th>\n",
       "      <td>2012-12-01</td>\n",
       "      <td>60.198570</td>\n",
       "      <td>75.510002</td>\n",
       "      <td>30.120001</td>\n",
       "      <td>12.13</td>\n",
       "      <td>175.929993</td>\n",
       "      <td>180.550003</td>\n",
       "      <td>28.250000</td>\n",
       "      <td>313.644379</td>\n",
       "      <td>1295.500000</td>\n",
       "      <td>...</td>\n",
       "      <td>NaN</td>\n",
       "      <td>NaN</td>\n",
       "      <td>NaN</td>\n",
       "      <td>NaN</td>\n",
       "      <td>NaN</td>\n",
       "      <td>NaN</td>\n",
       "      <td>NaN</td>\n",
       "      <td>NaN</td>\n",
       "      <td>NaN</td>\n",
       "      <td>NaN</td>\n",
       "    </tr>\n",
       "    <tr>\n",
       "      <th>1</th>\n",
       "      <td>2012-01-13</td>\n",
       "      <td>59.972858</td>\n",
       "      <td>74.599998</td>\n",
       "      <td>30.070000</td>\n",
       "      <td>12.35</td>\n",
       "      <td>178.419998</td>\n",
       "      <td>179.160004</td>\n",
       "      <td>22.790001</td>\n",
       "      <td>311.328064</td>\n",
       "      <td>1289.089966</td>\n",
       "      <td>...</td>\n",
       "      <td>-0.003749</td>\n",
       "      <td>-0.003749</td>\n",
       "      <td>-0.004948</td>\n",
       "      <td>-0.012051</td>\n",
       "      <td>-0.001660</td>\n",
       "      <td>0.018137</td>\n",
       "      <td>0.014153</td>\n",
       "      <td>-0.007699</td>\n",
       "      <td>-0.193274</td>\n",
       "      <td>-0.007385</td>\n",
       "    </tr>\n",
       "    <tr>\n",
       "      <th>2</th>\n",
       "      <td>2012-01-17</td>\n",
       "      <td>60.671429</td>\n",
       "      <td>75.239998</td>\n",
       "      <td>30.250000</td>\n",
       "      <td>12.25</td>\n",
       "      <td>181.660004</td>\n",
       "      <td>180.000000</td>\n",
       "      <td>26.600000</td>\n",
       "      <td>313.116364</td>\n",
       "      <td>1293.670044</td>\n",
       "      <td>...</td>\n",
       "      <td>NaN</td>\n",
       "      <td>NaN</td>\n",
       "      <td>0.003553</td>\n",
       "      <td>0.008579</td>\n",
       "      <td>0.005986</td>\n",
       "      <td>-0.008097</td>\n",
       "      <td>0.018159</td>\n",
       "      <td>0.004689</td>\n",
       "      <td>0.167179</td>\n",
       "      <td>0.005744</td>\n",
       "    </tr>\n",
       "    <tr>\n",
       "      <th>3</th>\n",
       "      <td>2012-01-18</td>\n",
       "      <td>61.301430</td>\n",
       "      <td>75.059998</td>\n",
       "      <td>30.330000</td>\n",
       "      <td>12.73</td>\n",
       "      <td>189.440002</td>\n",
       "      <td>181.070007</td>\n",
       "      <td>26.809999</td>\n",
       "      <td>315.273285</td>\n",
       "      <td>1308.040039</td>\n",
       "      <td>...</td>\n",
       "      <td>NaN</td>\n",
       "      <td>NaN</td>\n",
       "      <td>0.011108</td>\n",
       "      <td>-0.002392</td>\n",
       "      <td>0.002645</td>\n",
       "      <td>0.039184</td>\n",
       "      <td>0.042827</td>\n",
       "      <td>0.005944</td>\n",
       "      <td>0.007895</td>\n",
       "      <td>0.006889</td>\n",
       "    </tr>\n",
       "    <tr>\n",
       "      <th>4</th>\n",
       "      <td>2012-01-19</td>\n",
       "      <td>61.107143</td>\n",
       "      <td>75.559998</td>\n",
       "      <td>30.420000</td>\n",
       "      <td>12.80</td>\n",
       "      <td>194.449997</td>\n",
       "      <td>180.520004</td>\n",
       "      <td>26.760000</td>\n",
       "      <td>318.590851</td>\n",
       "      <td>1314.500000</td>\n",
       "      <td>...</td>\n",
       "      <td>-0.003169</td>\n",
       "      <td>-0.003169</td>\n",
       "      <td>0.004939</td>\n",
       "      <td>0.006661</td>\n",
       "      <td>0.002967</td>\n",
       "      <td>0.005499</td>\n",
       "      <td>0.026446</td>\n",
       "      <td>-0.003038</td>\n",
       "      <td>-0.001865</td>\n",
       "      <td>0.010523</td>\n",
       "    </tr>\n",
       "  </tbody>\n",
       "</table>\n",
       "<p>5 rows × 28 columns</p>\n",
       "</div>"
      ],
      "text/plain": [
       "        Date       AAPL         BA          T    MGM        AMZN         IBM  \\\n",
       "0 2012-12-01  60.198570  75.510002  30.120001  12.13  175.929993  180.550003   \n",
       "1 2012-01-13  59.972858  74.599998  30.070000  12.35  178.419998  179.160004   \n",
       "2 2012-01-17  60.671429  75.239998  30.250000  12.25  181.660004  180.000000   \n",
       "3 2012-01-18  61.301430  75.059998  30.330000  12.73  189.440002  181.070007   \n",
       "4 2012-01-19  61.107143  75.559998  30.420000  12.80  194.449997  180.520004   \n",
       "\n",
       "        TSLA        GOOG        sp500  ...        dd    ddAAPL  \\\n",
       "0  28.250000  313.644379  1295.500000  ...       NaN       NaN   \n",
       "1  22.790001  311.328064  1289.089966  ... -0.003749 -0.003749   \n",
       "2  26.600000  313.116364  1293.670044  ...       NaN       NaN   \n",
       "3  26.809999  315.273285  1308.040039  ...       NaN       NaN   \n",
       "4  26.760000  318.590851  1314.500000  ... -0.003169 -0.003169   \n",
       "\n",
       "   dailybench_return  daily_returnBA  daily_returnT  daily_returnMGM  \\\n",
       "0                NaN             NaN            NaN              NaN   \n",
       "1          -0.004948       -0.012051      -0.001660         0.018137   \n",
       "2           0.003553        0.008579       0.005986        -0.008097   \n",
       "3           0.011108       -0.002392       0.002645         0.039184   \n",
       "4           0.004939        0.006661       0.002967         0.005499   \n",
       "\n",
       "   daily_returnAMZN  daily_returnIBM  daily_returnTSLA  daily_returnGOOG  \n",
       "0               NaN              NaN               NaN               NaN  \n",
       "1          0.014153        -0.007699         -0.193274         -0.007385  \n",
       "2          0.018159         0.004689          0.167179          0.005744  \n",
       "3          0.042827         0.005944          0.007895          0.006889  \n",
       "4          0.026446        -0.003038         -0.001865          0.010523  \n",
       "\n",
       "[5 rows x 28 columns]"
      ]
     },
     "execution_count": 102,
     "metadata": {},
     "output_type": "execute_result"
    }
   ],
   "source": [
    "import numpy as np\n",
    "excel[\"daily_returnAAPL\"]= excel[\"AAPL\"].pct_change()\n",
    "excel[\"daily_returnBA\"]= excel[\"BA\"].pct_change()\n",
    "\n",
    "excel[\"daily_returnT\"]= excel[\"T\"].pct_change()\n",
    "\n",
    "excel[\"daily_returnMGM\"]= excel[\"MGM\"].pct_change()\n",
    "\n",
    "excel[\"daily_returnAMZN\"]= excel[\"AMZN\"].pct_change()\n",
    "\n",
    "excel[\"daily_returnIBM\"]= excel[\"IBM\"].pct_change()\n",
    "\n",
    "excel[\"daily_returnTSLA\"]= excel[\"TSLA\"].pct_change()\n",
    "excel[\"daily_returnGOOG\"]= excel[\"GOOG\"].pct_change()\n",
    "\n",
    "\n",
    "\n",
    "\n",
    "excel.head()"
   ]
  },
  {
   "cell_type": "code",
   "execution_count": 42,
   "metadata": {},
   "outputs": [],
   "source": [
    "#sortino ratio = (return - MAR)/ downside deviation"
   ]
  },
  {
   "cell_type": "code",
   "execution_count": 105,
   "metadata": {},
   "outputs": [
    {
     "data": {
      "text/plain": [
       "6.267614496490525"
      ]
     },
     "execution_count": 105,
     "metadata": {},
     "output_type": "execute_result"
    }
   ],
   "source": [
    "return_aapl=np.prod((excel.daily_returnAAPL + 1)) - 1\n",
    "return_BA=np.prod((excel.daily_returnBA + 1)) - 1\n",
    "\n",
    "return_T=np.prod((excel.daily_returnT + 1)) - 1\n",
    "\n",
    "return_MGM=np.prod((excel.daily_returnMGM + 1)) - 1\n",
    "\n",
    "return_AMZN=np.prod((excel.daily_returnAMZN + 1)) - 1\n",
    "\n",
    "return_IBM=np.prod((excel.daily_returnIBM + 1)) - 1\n",
    "\n",
    "return_TSLA=np.prod((excel.daily_returnTSLA + 1)) - 1\n",
    "return_GOOG=np.prod((excel.daily_returnGOOG + 1)) - 1\n",
    "\n",
    "\n",
    "\n",
    "\n",
    "\n",
    "\n",
    "\n",
    "\n",
    "return_aapl\n",
    "\n"
   ]
  },
  {
   "cell_type": "code",
   "execution_count": 106,
   "metadata": {},
   "outputs": [
    {
     "data": {
      "text/plain": [
       "1.38551185576714"
      ]
     },
     "execution_count": 106,
     "metadata": {},
     "output_type": "execute_result"
    }
   ],
   "source": [
    "return_BA\n"
   ]
  },
  {
   "cell_type": "code",
   "execution_count": 107,
   "metadata": {},
   "outputs": [
    {
     "data": {
      "text/plain": [
       "0.002656042408501147"
      ]
     },
     "execution_count": 107,
     "metadata": {},
     "output_type": "execute_result"
    }
   ],
   "source": [
    "return_T\n",
    "\n",
    "\n",
    "\n",
    "\n"
   ]
  },
  {
   "cell_type": "code",
   "execution_count": 108,
   "metadata": {},
   "outputs": [
    {
     "data": {
      "text/plain": [
       "0.7724649629018931"
      ]
     },
     "execution_count": 108,
     "metadata": {},
     "output_type": "execute_result"
    }
   ],
   "source": [
    "return_MGM"
   ]
  },
  {
   "cell_type": "code",
   "execution_count": 109,
   "metadata": {},
   "outputs": [
    {
     "data": {
      "text/plain": [
       "16.510771582876217"
      ]
     },
     "execution_count": 109,
     "metadata": {},
     "output_type": "execute_result"
    }
   ],
   "source": [
    "return_AMZN"
   ]
  },
  {
   "cell_type": "code",
   "execution_count": 110,
   "metadata": {},
   "outputs": [
    {
     "data": {
      "text/plain": [
       "-0.29797841100008293"
      ]
     },
     "execution_count": 110,
     "metadata": {},
     "output_type": "execute_result"
    }
   ],
   "source": [
    "return_IBM"
   ]
  },
  {
   "cell_type": "code",
   "execution_count": 111,
   "metadata": {},
   "outputs": [
    {
     "data": {
      "text/plain": [
       "47.650973982301075"
      ]
     },
     "execution_count": 111,
     "metadata": {},
     "output_type": "execute_result"
    }
   ],
   "source": [
    "return_TSLA"
   ]
  },
  {
   "cell_type": "code",
   "execution_count": 112,
   "metadata": {},
   "outputs": [
    {
     "data": {
      "text/plain": [
       "3.719740078619423"
      ]
     },
     "execution_count": 112,
     "metadata": {},
     "output_type": "execute_result"
    }
   ],
   "source": [
    "return_GOOG"
   ]
  },
  {
   "cell_type": "code",
   "execution_count": 113,
   "metadata": {},
   "outputs": [
    {
     "data": {
      "text/html": [
       "<div>\n",
       "<style scoped>\n",
       "    .dataframe tbody tr th:only-of-type {\n",
       "        vertical-align: middle;\n",
       "    }\n",
       "\n",
       "    .dataframe tbody tr th {\n",
       "        vertical-align: top;\n",
       "    }\n",
       "\n",
       "    .dataframe thead th {\n",
       "        text-align: right;\n",
       "    }\n",
       "</style>\n",
       "<table border=\"1\" class=\"dataframe\">\n",
       "  <thead>\n",
       "    <tr style=\"text-align: right;\">\n",
       "      <th></th>\n",
       "      <th>Date</th>\n",
       "      <th>AAPL</th>\n",
       "      <th>BA</th>\n",
       "      <th>T</th>\n",
       "      <th>MGM</th>\n",
       "      <th>AMZN</th>\n",
       "      <th>IBM</th>\n",
       "      <th>TSLA</th>\n",
       "      <th>GOOG</th>\n",
       "      <th>sp500</th>\n",
       "      <th>...</th>\n",
       "      <th>daily_returnIBM</th>\n",
       "      <th>daily_returnTSLA</th>\n",
       "      <th>daily_returnGOOG</th>\n",
       "      <th>ddBA</th>\n",
       "      <th>ddT</th>\n",
       "      <th>ddMGM</th>\n",
       "      <th>ddAMZN</th>\n",
       "      <th>ddIBM</th>\n",
       "      <th>ddTSLA</th>\n",
       "      <th>ddGOOG</th>\n",
       "    </tr>\n",
       "  </thead>\n",
       "  <tbody>\n",
       "    <tr>\n",
       "      <th>0</th>\n",
       "      <td>2012-12-01</td>\n",
       "      <td>60.198570</td>\n",
       "      <td>75.510002</td>\n",
       "      <td>30.120001</td>\n",
       "      <td>12.13</td>\n",
       "      <td>175.929993</td>\n",
       "      <td>180.550003</td>\n",
       "      <td>28.250000</td>\n",
       "      <td>313.644379</td>\n",
       "      <td>1295.500000</td>\n",
       "      <td>...</td>\n",
       "      <td>NaN</td>\n",
       "      <td>NaN</td>\n",
       "      <td>NaN</td>\n",
       "      <td>NaN</td>\n",
       "      <td>NaN</td>\n",
       "      <td>NaN</td>\n",
       "      <td>NaN</td>\n",
       "      <td>NaN</td>\n",
       "      <td>NaN</td>\n",
       "      <td>NaN</td>\n",
       "    </tr>\n",
       "    <tr>\n",
       "      <th>1</th>\n",
       "      <td>2012-01-13</td>\n",
       "      <td>59.972858</td>\n",
       "      <td>74.599998</td>\n",
       "      <td>30.070000</td>\n",
       "      <td>12.35</td>\n",
       "      <td>178.419998</td>\n",
       "      <td>179.160004</td>\n",
       "      <td>22.790001</td>\n",
       "      <td>311.328064</td>\n",
       "      <td>1289.089966</td>\n",
       "      <td>...</td>\n",
       "      <td>-0.007699</td>\n",
       "      <td>-0.193274</td>\n",
       "      <td>-0.007385</td>\n",
       "      <td>-0.012051</td>\n",
       "      <td>-0.00166</td>\n",
       "      <td>NaN</td>\n",
       "      <td>NaN</td>\n",
       "      <td>-0.007699</td>\n",
       "      <td>-0.193274</td>\n",
       "      <td>-0.007385</td>\n",
       "    </tr>\n",
       "    <tr>\n",
       "      <th>2</th>\n",
       "      <td>2012-01-17</td>\n",
       "      <td>60.671429</td>\n",
       "      <td>75.239998</td>\n",
       "      <td>30.250000</td>\n",
       "      <td>12.25</td>\n",
       "      <td>181.660004</td>\n",
       "      <td>180.000000</td>\n",
       "      <td>26.600000</td>\n",
       "      <td>313.116364</td>\n",
       "      <td>1293.670044</td>\n",
       "      <td>...</td>\n",
       "      <td>0.004689</td>\n",
       "      <td>0.167179</td>\n",
       "      <td>0.005744</td>\n",
       "      <td>NaN</td>\n",
       "      <td>NaN</td>\n",
       "      <td>-0.008097</td>\n",
       "      <td>NaN</td>\n",
       "      <td>NaN</td>\n",
       "      <td>NaN</td>\n",
       "      <td>NaN</td>\n",
       "    </tr>\n",
       "    <tr>\n",
       "      <th>3</th>\n",
       "      <td>2012-01-18</td>\n",
       "      <td>61.301430</td>\n",
       "      <td>75.059998</td>\n",
       "      <td>30.330000</td>\n",
       "      <td>12.73</td>\n",
       "      <td>189.440002</td>\n",
       "      <td>181.070007</td>\n",
       "      <td>26.809999</td>\n",
       "      <td>315.273285</td>\n",
       "      <td>1308.040039</td>\n",
       "      <td>...</td>\n",
       "      <td>0.005944</td>\n",
       "      <td>0.007895</td>\n",
       "      <td>0.006889</td>\n",
       "      <td>-0.002392</td>\n",
       "      <td>NaN</td>\n",
       "      <td>NaN</td>\n",
       "      <td>NaN</td>\n",
       "      <td>NaN</td>\n",
       "      <td>NaN</td>\n",
       "      <td>NaN</td>\n",
       "    </tr>\n",
       "    <tr>\n",
       "      <th>4</th>\n",
       "      <td>2012-01-19</td>\n",
       "      <td>61.107143</td>\n",
       "      <td>75.559998</td>\n",
       "      <td>30.420000</td>\n",
       "      <td>12.80</td>\n",
       "      <td>194.449997</td>\n",
       "      <td>180.520004</td>\n",
       "      <td>26.760000</td>\n",
       "      <td>318.590851</td>\n",
       "      <td>1314.500000</td>\n",
       "      <td>...</td>\n",
       "      <td>-0.003038</td>\n",
       "      <td>-0.001865</td>\n",
       "      <td>0.010523</td>\n",
       "      <td>NaN</td>\n",
       "      <td>NaN</td>\n",
       "      <td>NaN</td>\n",
       "      <td>NaN</td>\n",
       "      <td>-0.003038</td>\n",
       "      <td>-0.001865</td>\n",
       "      <td>NaN</td>\n",
       "    </tr>\n",
       "  </tbody>\n",
       "</table>\n",
       "<p>5 rows × 35 columns</p>\n",
       "</div>"
      ],
      "text/plain": [
       "        Date       AAPL         BA          T    MGM        AMZN         IBM  \\\n",
       "0 2012-12-01  60.198570  75.510002  30.120001  12.13  175.929993  180.550003   \n",
       "1 2012-01-13  59.972858  74.599998  30.070000  12.35  178.419998  179.160004   \n",
       "2 2012-01-17  60.671429  75.239998  30.250000  12.25  181.660004  180.000000   \n",
       "3 2012-01-18  61.301430  75.059998  30.330000  12.73  189.440002  181.070007   \n",
       "4 2012-01-19  61.107143  75.559998  30.420000  12.80  194.449997  180.520004   \n",
       "\n",
       "        TSLA        GOOG        sp500  ...  daily_returnIBM  daily_returnTSLA  \\\n",
       "0  28.250000  313.644379  1295.500000  ...              NaN               NaN   \n",
       "1  22.790001  311.328064  1289.089966  ...        -0.007699         -0.193274   \n",
       "2  26.600000  313.116364  1293.670044  ...         0.004689          0.167179   \n",
       "3  26.809999  315.273285  1308.040039  ...         0.005944          0.007895   \n",
       "4  26.760000  318.590851  1314.500000  ...        -0.003038         -0.001865   \n",
       "\n",
       "   daily_returnGOOG      ddBA      ddT     ddMGM  ddAMZN     ddIBM    ddTSLA  \\\n",
       "0               NaN       NaN      NaN       NaN     NaN       NaN       NaN   \n",
       "1         -0.007385 -0.012051 -0.00166       NaN     NaN -0.007699 -0.193274   \n",
       "2          0.005744       NaN      NaN -0.008097     NaN       NaN       NaN   \n",
       "3          0.006889 -0.002392      NaN       NaN     NaN       NaN       NaN   \n",
       "4          0.010523       NaN      NaN       NaN     NaN -0.003038 -0.001865   \n",
       "\n",
       "     ddGOOG  \n",
       "0       NaN  \n",
       "1 -0.007385  \n",
       "2       NaN  \n",
       "3       NaN  \n",
       "4       NaN  \n",
       "\n",
       "[5 rows x 35 columns]"
      ]
     },
     "execution_count": 113,
     "metadata": {},
     "output_type": "execute_result"
    }
   ],
   "source": [
    "excel[\"ddAAPL\"]= excel[excel[\"daily_returnAAPL\"] < 0][\"daily_returnAAPL\"]\n",
    "excel[\"ddBA\"]= excel[excel[\"daily_returnBA\"] < 0][\"daily_returnBA\"]\n",
    "\n",
    "excel[\"ddT\"]= excel[excel[\"daily_returnT\"] < 0][\"daily_returnT\"]\n",
    "\n",
    "excel[\"ddMGM\"]= excel[excel[\"daily_returnMGM\"] < 0][\"daily_returnMGM\"]\n",
    "\n",
    "excel[\"ddAMZN\"]= excel[excel[\"daily_returnAMZN\"] < 0][\"daily_returnAMZN\"]\n",
    "\n",
    "excel[\"ddIBM\"]= excel[excel[\"daily_returnIBM\"] < 0][\"daily_returnIBM\"]\n",
    "\n",
    "excel[\"ddTSLA\"]= excel[excel[\"daily_returnTSLA\"] < 0][\"daily_returnTSLA\"]\n",
    "\n",
    "excel[\"ddGOOG\"]= excel[excel[\"daily_returnGOOG\"] < 0][\"daily_returnGOOG\"]\n",
    "\n",
    "\n",
    "excel.head()"
   ]
  },
  {
   "cell_type": "code",
   "execution_count": null,
   "metadata": {},
   "outputs": [],
   "source": []
  },
  {
   "cell_type": "code",
   "execution_count": 114,
   "metadata": {},
   "outputs": [
    {
     "data": {
      "text/plain": [
       "0.6135661661108949"
      ]
     },
     "execution_count": 114,
     "metadata": {},
     "output_type": "execute_result"
    }
   ],
   "source": [
    "dd_aapl=excel.ddAAPL.std()*np.sqrt(2159)\n",
    "dd_BA=excel.ddBA.std()*np.sqrt(2159)\n",
    "\n",
    "dd_T=excel.ddT.std()*np.sqrt(2159)\n",
    "\n",
    "dd_MGM=excel.ddMGM.std()*np.sqrt(2159)\n",
    "\n",
    "dd_AMZN=excel.ddAMZN.std()*np.sqrt(2159)\n",
    "\n",
    "dd_IBM=excel.ddIBM.std()*np.sqrt(2159)\n",
    "\n",
    "dd_TSLA=excel.ddTSLA.std()*np.sqrt(2159)\n",
    "\n",
    "dd_GOOG=excel.ddGOOG.std()*np.sqrt(2159)\n",
    "\n",
    "\n",
    "dd_aapl"
   ]
  },
  {
   "cell_type": "code",
   "execution_count": 115,
   "metadata": {},
   "outputs": [
    {
     "data": {
      "text/plain": [
       "0.8590214502594011"
      ]
     },
     "execution_count": 115,
     "metadata": {},
     "output_type": "execute_result"
    }
   ],
   "source": [
    "dd_BA"
   ]
  },
  {
   "cell_type": "code",
   "execution_count": 116,
   "metadata": {},
   "outputs": [
    {
     "data": {
      "text/plain": [
       "0.4772238327113847"
      ]
     },
     "execution_count": 116,
     "metadata": {},
     "output_type": "execute_result"
    }
   ],
   "source": [
    "dd_T"
   ]
  },
  {
   "cell_type": "code",
   "execution_count": 117,
   "metadata": {},
   "outputs": [
    {
     "data": {
      "text/plain": [
       "0.9985987462597206"
      ]
     },
     "execution_count": 117,
     "metadata": {},
     "output_type": "execute_result"
    }
   ],
   "source": [
    "dd_MGM"
   ]
  },
  {
   "cell_type": "code",
   "execution_count": 118,
   "metadata": {},
   "outputs": [
    {
     "data": {
      "text/plain": [
       "0.619548462917504"
      ]
     },
     "execution_count": 118,
     "metadata": {},
     "output_type": "execute_result"
    }
   ],
   "source": [
    "dd_AMZN"
   ]
  },
  {
   "cell_type": "code",
   "execution_count": 119,
   "metadata": {},
   "outputs": [
    {
     "data": {
      "text/plain": [
       "0.5376660832872114"
      ]
     },
     "execution_count": 119,
     "metadata": {},
     "output_type": "execute_result"
    }
   ],
   "source": [
    "dd_IBM"
   ]
  },
  {
   "cell_type": "code",
   "execution_count": 120,
   "metadata": {},
   "outputs": [
    {
     "data": {
      "text/plain": [
       "1.0865472110068795"
      ]
     },
     "execution_count": 120,
     "metadata": {},
     "output_type": "execute_result"
    }
   ],
   "source": [
    "dd_TSLA"
   ]
  },
  {
   "cell_type": "code",
   "execution_count": 121,
   "metadata": {},
   "outputs": [
    {
     "data": {
      "text/plain": [
       "0.5349540110817028"
      ]
     },
     "execution_count": 121,
     "metadata": {},
     "output_type": "execute_result"
    }
   ],
   "source": [
    "dd_GOOG"
   ]
  },
  {
   "cell_type": "code",
   "execution_count": null,
   "metadata": {},
   "outputs": [],
   "source": []
  },
  {
   "cell_type": "code",
   "execution_count": null,
   "metadata": {},
   "outputs": [],
   "source": []
  },
  {
   "cell_type": "code",
   "execution_count": null,
   "metadata": {},
   "outputs": [],
   "source": []
  },
  {
   "cell_type": "code",
   "execution_count": 122,
   "metadata": {},
   "outputs": [
    {
     "data": {
      "text/plain": [
       "10.182462530636577"
      ]
     },
     "execution_count": 122,
     "metadata": {},
     "output_type": "execute_result"
    }
   ],
   "source": [
    "sortino_ratioAAPL=(return_aapl - 2/100)/dd_aapl\n",
    "sortino_ratioBA=(return_aapl - 2/100)/dd_BA\n",
    "\n",
    "sortino_ratioT=(return_aapl - 2/100)/dd_T\n",
    "\n",
    "sortino_ratioMGM=(return_aapl - 2/100)/dd_MGM\n",
    "\n",
    "sortino_ratioAMZN=(return_aapl - 2/100)/dd_AMZN\n",
    "\n",
    "sortino_ratioIBM=(return_aapl - 2/100)/dd_IBM\n",
    "\n",
    "sortino_ratioTSLA=(return_aapl - 2/100)/dd_TSLA\n",
    "\n",
    "sortino_ratioGOOG=(return_aapl - 2/100)/dd_GOOG\n",
    "\n",
    "\n",
    "\n",
    "sortino_ratioAAPL"
   ]
  },
  {
   "cell_type": "code",
   "execution_count": 123,
   "metadata": {},
   "outputs": [
    {
     "data": {
      "text/plain": [
       "7.272943527316944"
      ]
     },
     "execution_count": 123,
     "metadata": {},
     "output_type": "execute_result"
    }
   ],
   "source": [
    "sortino_ratioBA"
   ]
  },
  {
   "cell_type": "code",
   "execution_count": 124,
   "metadata": {},
   "outputs": [
    {
     "data": {
      "text/plain": [
       "13.091581074218807"
      ]
     },
     "execution_count": 124,
     "metadata": {},
     "output_type": "execute_result"
    }
   ],
   "source": [
    "sortino_ratioT"
   ]
  },
  {
   "cell_type": "code",
   "execution_count": 125,
   "metadata": {},
   "outputs": [
    {
     "data": {
      "text/plain": [
       "6.256381274151544"
      ]
     },
     "execution_count": 125,
     "metadata": {},
     "output_type": "execute_result"
    }
   ],
   "source": [
    "sortino_ratioMGM"
   ]
  },
  {
   "cell_type": "code",
   "execution_count": 126,
   "metadata": {},
   "outputs": [
    {
     "data": {
      "text/plain": [
       "10.084141710351442"
      ]
     },
     "execution_count": 126,
     "metadata": {},
     "output_type": "execute_result"
    }
   ],
   "source": [
    "sortino_ratioAMZN"
   ]
  },
  {
   "cell_type": "code",
   "execution_count": 127,
   "metadata": {},
   "outputs": [
    {
     "data": {
      "text/plain": [
       "11.61987837933449"
      ]
     },
     "execution_count": 127,
     "metadata": {},
     "output_type": "execute_result"
    }
   ],
   "source": [
    "sortino_ratioIBM"
   ]
  },
  {
   "cell_type": "code",
   "execution_count": 128,
   "metadata": {},
   "outputs": [
    {
     "data": {
      "text/plain": [
       "5.7499705794661224"
      ]
     },
     "execution_count": 128,
     "metadata": {},
     "output_type": "execute_result"
    }
   ],
   "source": [
    "sortino_ratioTSLA"
   ]
  },
  {
   "cell_type": "code",
   "execution_count": 129,
   "metadata": {},
   "outputs": [
    {
     "data": {
      "text/plain": [
       "11.678788021156338"
      ]
     },
     "execution_count": 129,
     "metadata": {},
     "output_type": "execute_result"
    }
   ],
   "source": [
    "sortino_ratioGOOG"
   ]
  },
  {
   "cell_type": "code",
   "execution_count": null,
   "metadata": {},
   "outputs": [],
   "source": []
  },
  {
   "cell_type": "markdown",
   "metadata": {},
   "source": [
    "calculate treynors ratio"
   ]
  },
  {
   "cell_type": "code",
   "execution_count": null,
   "metadata": {},
   "outputs": [],
   "source": []
  },
  {
   "cell_type": "code",
   "execution_count": 131,
   "metadata": {},
   "outputs": [
    {
     "data": {
      "text/plain": [
       "6.931778220669421"
      ]
     },
     "execution_count": 131,
     "metadata": {},
     "output_type": "execute_result"
    }
   ],
   "source": [
    "cumu_retAAPL=((excel[\"daily_returnAAPL\"].iloc[-1])/(excel[\"daily_returnAAPL\"].iloc[1])) -1\n",
    "cumu_retBA=((excel[\"daily_returnBA\"].iloc[-1])/(excel[\"daily_returnBA\"].iloc[1])) -1\n",
    "\n",
    "cumu_retT=((excel[\"daily_returnT\"].iloc[-1])/(excel[\"daily_returnT\"].iloc[1])) -1\n",
    "\n",
    "cumu_retMGM=((excel[\"daily_returnMGM\"].iloc[-1])/(excel[\"daily_returnMGM\"].iloc[1])) -1\n",
    "\n",
    "cumu_retAMZN=((excel[\"daily_returnAMZN\"].iloc[-1])/(excel[\"daily_returnAMZN\"].iloc[1])) -1\n",
    "\n",
    "cumu_retIBM=((excel[\"daily_returnIBM\"].iloc[-1])/(excel[\"daily_returnIBM\"].iloc[1])) -1\n",
    "\n",
    "cumu_retTSLA=((excel[\"daily_returnTSLA\"].iloc[-1])/(excel[\"daily_returnTSLA\"].iloc[1])) -1\n",
    "\n",
    "cumu_retGOOG=((excel[\"daily_returnGOOG\"].iloc[-1])/(excel[\"daily_returnGOOG\"].iloc[1])) -1\n",
    "\n",
    "\n",
    "cumu_retAAPL"
   ]
  },
  {
   "cell_type": "code",
   "execution_count": 132,
   "metadata": {},
   "outputs": [
    {
     "data": {
      "text/plain": [
       "-1.333002599864166"
      ]
     },
     "execution_count": 132,
     "metadata": {},
     "output_type": "execute_result"
    }
   ],
   "source": [
    "cumu_retBA"
   ]
  },
  {
   "cell_type": "code",
   "execution_count": 133,
   "metadata": {},
   "outputs": [
    {
     "data": {
      "text/plain": [
       "-1.0"
      ]
     },
     "execution_count": 133,
     "metadata": {},
     "output_type": "execute_result"
    }
   ],
   "source": [
    "cumu_retT"
   ]
  },
  {
   "cell_type": "code",
   "execution_count": 134,
   "metadata": {},
   "outputs": [
    {
     "data": {
      "text/plain": [
       "-1.3820071383581751"
      ]
     },
     "execution_count": 134,
     "metadata": {},
     "output_type": "execute_result"
    }
   ],
   "source": [
    "cumu_retMGM"
   ]
  },
  {
   "cell_type": "code",
   "execution_count": 135,
   "metadata": {},
   "outputs": [
    {
     "data": {
      "text/plain": [
       "-2.5146847245940376"
      ]
     },
     "execution_count": 135,
     "metadata": {},
     "output_type": "execute_result"
    }
   ],
   "source": [
    "cumu_retAMZN"
   ]
  },
  {
   "cell_type": "code",
   "execution_count": 136,
   "metadata": {},
   "outputs": [
    {
     "data": {
      "text/plain": [
       "-0.6321193059432271"
      ]
     },
     "execution_count": 136,
     "metadata": {},
     "output_type": "execute_result"
    }
   ],
   "source": [
    "cumu_retIBM"
   ]
  },
  {
   "cell_type": "code",
   "execution_count": 137,
   "metadata": {},
   "outputs": [
    {
     "data": {
      "text/plain": [
       "-0.8388611842216522"
      ]
     },
     "execution_count": 137,
     "metadata": {},
     "output_type": "execute_result"
    }
   ],
   "source": [
    "cumu_retTSLA"
   ]
  },
  {
   "cell_type": "code",
   "execution_count": 138,
   "metadata": {},
   "outputs": [
    {
     "data": {
      "text/plain": [
       "0.42819364959813266"
      ]
     },
     "execution_count": 138,
     "metadata": {},
     "output_type": "execute_result"
    }
   ],
   "source": [
    "cumu_retGOOG"
   ]
  },
  {
   "cell_type": "code",
   "execution_count": 139,
   "metadata": {},
   "outputs": [],
   "source": [
    "# import numpy as np\n",
    "# std=excel[\"daily_returnAAPL\"].std()*np.sqrt(2159)\n",
    "# std"
   ]
  },
  {
   "cell_type": "code",
   "execution_count": 72,
   "metadata": {},
   "outputs": [],
   "source": [
    "#treynor ratio=return -risk free rate / beta"
   ]
  },
  {
   "cell_type": "code",
   "execution_count": 74,
   "metadata": {},
   "outputs": [],
   "source": [
    "betaAAPL=0.1177\n",
    "\n",
    "rfr=2"
   ]
  },
  {
   "cell_type": "code",
   "execution_count": 76,
   "metadata": {},
   "outputs": [
    {
     "data": {
      "text/plain": [
       "58.72368921554309"
      ]
     },
     "execution_count": 76,
     "metadata": {},
     "output_type": "execute_result"
    }
   ],
   "source": [
    "tr_ratioAAPL=(cumu_retAAPL - rfr/100) /betaAAPL\n",
    "tr_ratioAAPL"
   ]
  },
  {
   "cell_type": "markdown",
   "metadata": {},
   "source": [
    "CALCULATING INFORMATION RATIO"
   ]
  },
  {
   "cell_type": "code",
   "execution_count": 92,
   "metadata": {},
   "outputs": [
    {
     "data": {
      "text/plain": [
       "6.267614496490525"
      ]
     },
     "execution_count": 92,
     "metadata": {},
     "output_type": "execute_result"
    }
   ],
   "source": [
    "excel[\"dailybench_return\"]=excel[\"sp500\"].pct_change()\n",
    "\n",
    "\n",
    "AAPL_return=np.prod(excel[\"daily_returnAAPL\"] +1 )-1\n",
    "AAPL_return"
   ]
  },
  {
   "cell_type": "code",
   "execution_count": 98,
   "metadata": {},
   "outputs": [
    {
     "data": {
      "text/plain": [
       "1.573284400617518"
      ]
     },
     "execution_count": 98,
     "metadata": {},
     "output_type": "execute_result"
    }
   ],
   "source": [
    "Bench_return=np.prod(excel[\"dailybench_return\"] +1)-1\n",
    "Bench_return"
   ]
  },
  {
   "cell_type": "code",
   "execution_count": 99,
   "metadata": {},
   "outputs": [],
   "source": [
    "trackingerrorAAPL=(excel[\"daily_returnAAPL\"]- excel[\"dailybench_return\"]).std()*np.sqrt(2159)"
   ]
  },
  {
   "cell_type": "code",
   "execution_count": 100,
   "metadata": {},
   "outputs": [],
   "source": [
    "inforatioAAPL=(AAPL_return - Bench_return)/trackingerrorAAPL"
   ]
  },
  {
   "cell_type": "code",
   "execution_count": 101,
   "metadata": {},
   "outputs": [
    {
     "data": {
      "text/plain": [
       "7.518310143878343"
      ]
     },
     "execution_count": 101,
     "metadata": {},
     "output_type": "execute_result"
    }
   ],
   "source": [
    "inforatioAAPL"
   ]
  },
  {
   "cell_type": "markdown",
   "metadata": {},
   "source": [
    "SHARPE RATIO"
   ]
  },
  {
   "cell_type": "code",
   "execution_count": 143,
   "metadata": {},
   "outputs": [],
   "source": [
    "stdAAPL=excel[\"daily_returnAAPL\"].std()*np.sqrt(2159)\n",
    "stdBA=excel[\"daily_returnBA\"].std()*np.sqrt(2159)\n",
    "\n",
    "stdT=excel[\"daily_returnT\"].std()*np.sqrt(2159)\n",
    "\n",
    "stdMGM=excel[\"daily_returnMGM\"].std()*np.sqrt(2159)\n",
    "\n",
    "stdAMZN=excel[\"daily_returnAMZN\"].std()*np.sqrt(2159)\n",
    "\n",
    "stdIBM=excel[\"daily_returnIBM\"].std()*np.sqrt(2159)\n",
    "\n",
    "stdTSLA=excel[\"daily_returnTSLA\"].std()*np.sqrt(2159)\n",
    "\n",
    "stdGOOG=excel[\"daily_returnGOOG\"].std()*np.sqrt(2159)\n",
    "\n",
    "\n",
    "cumu_retAAPL\n",
    "cumu_retBA\n",
    "cumu_retBA\n",
    "cumu_retMGM\n",
    "cumu_retAMZN\n",
    "cumu_retIBM\n",
    "cumu_retTSLA\n",
    "cumu_retGOOG\n",
    "\n",
    "rfr=5\n"
   ]
  },
  {
   "cell_type": "code",
   "execution_count": 144,
   "metadata": {},
   "outputs": [
    {
     "data": {
      "text/plain": [
       "2.340693347583426"
      ]
     },
     "execution_count": 144,
     "metadata": {},
     "output_type": "execute_result"
    }
   ],
   "source": [
    "sharpeAAPL=(cumu_retAAPL - rfr)/stdAAPL\n",
    "sharpeBA=(cumu_retBA - rfr)/stdBA\n",
    "\n",
    "sharpeT=(cumu_retT - rfr)/stdT\n",
    "\n",
    "sharpeMGM=(cumu_retMGM - rfr)/stdMGM\n",
    "\n",
    "sharpeAMZN=(cumu_retAMZN - rfr)/stdAMZN\n",
    "\n",
    "sharpeIBM=(cumu_retIBM - rfr)/stdIBM\n",
    "\n",
    "sharpeTSLA=(cumu_retTSLA - rfr)/stdTSLA\n",
    "\n",
    "sharpeGOOG=(cumu_retGOOG - rfr)/stdGOOG\n",
    "\n",
    "\n",
    "\n",
    "sharpeAAPL\n"
   ]
  },
  {
   "cell_type": "code",
   "execution_count": 145,
   "metadata": {},
   "outputs": [
    {
     "data": {
      "text/plain": [
       "-6.029890509010467"
      ]
     },
     "execution_count": 145,
     "metadata": {},
     "output_type": "execute_result"
    }
   ],
   "source": [
    "sharpeBA"
   ]
  },
  {
   "cell_type": "code",
   "execution_count": 146,
   "metadata": {},
   "outputs": [
    {
     "data": {
      "text/plain": [
       "-10.206681801505507"
      ]
     },
     "execution_count": 146,
     "metadata": {},
     "output_type": "execute_result"
    }
   ],
   "source": [
    "sharpeT"
   ]
  },
  {
   "cell_type": "code",
   "execution_count": 147,
   "metadata": {},
   "outputs": [
    {
     "data": {
      "text/plain": [
       "-4.999614668028701"
      ]
     },
     "execution_count": 147,
     "metadata": {},
     "output_type": "execute_result"
    }
   ],
   "source": [
    "sharpeMGM"
   ]
  },
  {
   "cell_type": "code",
   "execution_count": 148,
   "metadata": {},
   "outputs": [
    {
     "data": {
      "text/plain": [
       "-8.387231449559618"
      ]
     },
     "execution_count": 148,
     "metadata": {},
     "output_type": "execute_result"
    }
   ],
   "source": [
    "sharpeAMZN"
   ]
  },
  {
   "cell_type": "code",
   "execution_count": 149,
   "metadata": {},
   "outputs": [
    {
     "data": {
      "text/plain": [
       "-8.46852718188714"
      ]
     },
     "execution_count": 149,
     "metadata": {},
     "output_type": "execute_result"
    }
   ],
   "source": [
    "sharpeIBM"
   ]
  },
  {
   "cell_type": "code",
   "execution_count": 150,
   "metadata": {},
   "outputs": [
    {
     "data": {
      "text/plain": [
       "-3.6627249272365296"
      ]
     },
     "execution_count": 150,
     "metadata": {},
     "output_type": "execute_result"
    }
   ],
   "source": [
    "sharpeTSLA"
   ]
  },
  {
   "cell_type": "code",
   "execution_count": 151,
   "metadata": {},
   "outputs": [
    {
     "data": {
      "text/plain": [
       "-6.204103648606127"
      ]
     },
     "execution_count": 151,
     "metadata": {},
     "output_type": "execute_result"
    }
   ],
   "source": [
    "sharpeGOOG"
   ]
  },
  {
   "cell_type": "code",
   "execution_count": null,
   "metadata": {},
   "outputs": [],
   "source": []
  },
  {
   "cell_type": "code",
   "execution_count": null,
   "metadata": {},
   "outputs": [],
   "source": []
  }
 ],
 "metadata": {
  "colab": {
   "collapsed_sections": [],
   "name": "tradingbot.ipynb",
   "provenance": []
  },
  "kernelspec": {
   "display_name": "Python 3 (ipykernel)",
   "language": "python",
   "name": "python3"
  },
  "language_info": {
   "codemirror_mode": {
    "name": "ipython",
    "version": 3
   },
   "file_extension": ".py",
   "mimetype": "text/x-python",
   "name": "python",
   "nbconvert_exporter": "python",
   "pygments_lexer": "ipython3",
   "version": "3.9.7"
  }
 },
 "nbformat": 4,
 "nbformat_minor": 1
}
