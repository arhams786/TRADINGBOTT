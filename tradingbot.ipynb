// Hello , my name is Arham shaikh and Im currently  a second year B.Tech student in data science and engineering. The file which I have attatched is an initial stage of making a trading bot. I have used the strategy of moving averages and golden crossover to code the trading bot. now im working on different metrics to run over my trading bot as to compare the risk to reward ratio. I will be calculating the following metrics for my trading bot by the end of December 2021: 
// 1-Sharpe ratio:
// 2-Trenor’s ratio:
// 3-Modigliani ratio:
// 4-Information ratio:
// 5-Omega ratio:
// 6-Sortino ratio:
// 7-Calmar ratio:
// 8-Sterling ratio:
// 9-Appraisal ratio:
// 10-Burke ratio:
// 11-Martin ratio:
// 12-Pain ratio: 


{
  "nbformat": 4,
  "nbformat_minor": 0,
  "metadata": {
    "colab": {
      "name": "tradingbot.ipynb",
      "provenance": [],
      "collapsed_sections": []
    },
    "kernelspec": {
      "name": "python3",
      "display_name": "Python 3"
    },
    "language_info": {
      "name": "python"
    }
  },
  "cells": [
    {
      "cell_type": "code",
      "metadata": {
        "colab": {
          "base_uri": "https://localhost:8080/"
        },
        "id": "8edSiKnF3xB2",
        "outputId": "c36c4ff0-7223-46bc-8e9b-afaca5e554bf"
      },
      "source": [
        "import pandas as pd\n",
        "!pip install yfinance\n",
        "import yfinance as yf\n",
        "import matplotlib.pyplot as plt\n"
      ],
      "execution_count": 5,
      "outputs": [
        {
          "output_type": "stream",
          "name": "stdout",
          "text": [
            "Collecting yfinance\n",
            "  Downloading yfinance-0.1.67-py2.py3-none-any.whl (25 kB)\n",
            "Requirement already satisfied: pandas>=0.24 in /usr/local/lib/python3.7/dist-packages (from yfinance) (1.1.5)\n",
            "Requirement already satisfied: requests>=2.20 in /usr/local/lib/python3.7/dist-packages (from yfinance) (2.23.0)\n",
            "Collecting lxml>=4.5.1\n",
            "  Downloading lxml-4.6.4-cp37-cp37m-manylinux_2_17_x86_64.manylinux2014_x86_64.manylinux_2_24_x86_64.whl (6.3 MB)\n",
            "\u001b[K     |████████████████████████████████| 6.3 MB 6.1 MB/s \n",
            "\u001b[?25hRequirement already satisfied: numpy>=1.15 in /usr/local/lib/python3.7/dist-packages (from yfinance) (1.19.5)\n",
            "Requirement already satisfied: multitasking>=0.0.7 in /usr/local/lib/python3.7/dist-packages (from yfinance) (0.0.10)\n",
            "Requirement already satisfied: pytz>=2017.2 in /usr/local/lib/python3.7/dist-packages (from pandas>=0.24->yfinance) (2018.9)\n",
            "Requirement already satisfied: python-dateutil>=2.7.3 in /usr/local/lib/python3.7/dist-packages (from pandas>=0.24->yfinance) (2.8.2)\n",
            "Requirement already satisfied: six>=1.5 in /usr/local/lib/python3.7/dist-packages (from python-dateutil>=2.7.3->pandas>=0.24->yfinance) (1.15.0)\n",
            "Requirement already satisfied: chardet<4,>=3.0.2 in /usr/local/lib/python3.7/dist-packages (from requests>=2.20->yfinance) (3.0.4)\n",
            "Requirement already satisfied: urllib3!=1.25.0,!=1.25.1,<1.26,>=1.21.1 in /usr/local/lib/python3.7/dist-packages (from requests>=2.20->yfinance) (1.24.3)\n",
            "Requirement already satisfied: idna<3,>=2.5 in /usr/local/lib/python3.7/dist-packages (from requests>=2.20->yfinance) (2.10)\n",
            "Requirement already satisfied: certifi>=2017.4.17 in /usr/local/lib/python3.7/dist-packages (from requests>=2.20->yfinance) (2021.10.8)\n",
            "Installing collected packages: lxml, yfinance\n",
            "  Attempting uninstall: lxml\n",
            "    Found existing installation: lxml 4.2.6\n",
            "    Uninstalling lxml-4.2.6:\n",
            "      Successfully uninstalled lxml-4.2.6\n",
            "Successfully installed lxml-4.6.4 yfinance-0.1.67\n"
          ]
        }
      ]
    },
    {
      "cell_type": "code",
      "metadata": {
        "colab": {
          "base_uri": "https://localhost:8080/"
        },
        "id": "1YkG2tK24TKJ",
        "outputId": "7a302523-1dbb-49c8-d36a-57e1cc407902"
      },
      "source": [
        "df=yf.download('AAPL',start='2019-01-01')\n"
      ],
      "execution_count": 6,
      "outputs": [
        {
          "output_type": "stream",
          "name": "stdout",
          "text": [
            "\r[*********************100%***********************]  1 of 1 completed\n"
          ]
        }
      ]
    },
    {
      "cell_type": "code",
      "metadata": {
        "colab": {
          "base_uri": "https://localhost:8080/",
          "height": 235
        },
        "id": "RYhHCCQ46TDC",
        "outputId": "b10b3746-5f01-43dd-84ee-e423052797a8"
      },
      "source": [
        "df.head()"
      ],
      "execution_count": 7,
      "outputs": [
        {
          "output_type": "execute_result",
          "data": {
            "text/html": [
              "<div>\n",
              "<style scoped>\n",
              "    .dataframe tbody tr th:only-of-type {\n",
              "        vertical-align: middle;\n",
              "    }\n",
              "\n",
              "    .dataframe tbody tr th {\n",
              "        vertical-align: top;\n",
              "    }\n",
              "\n",
              "    .dataframe thead th {\n",
              "        text-align: right;\n",
              "    }\n",
              "</style>\n",
              "<table border=\"1\" class=\"dataframe\">\n",
              "  <thead>\n",
              "    <tr style=\"text-align: right;\">\n",
              "      <th></th>\n",
              "      <th>Open</th>\n",
              "      <th>High</th>\n",
              "      <th>Low</th>\n",
              "      <th>Close</th>\n",
              "      <th>Adj Close</th>\n",
              "      <th>Volume</th>\n",
              "    </tr>\n",
              "    <tr>\n",
              "      <th>Date</th>\n",
              "      <th></th>\n",
              "      <th></th>\n",
              "      <th></th>\n",
              "      <th></th>\n",
              "      <th></th>\n",
              "      <th></th>\n",
              "    </tr>\n",
              "  </thead>\n",
              "  <tbody>\n",
              "    <tr>\n",
              "      <th>2019-01-02</th>\n",
              "      <td>38.722500</td>\n",
              "      <td>39.712502</td>\n",
              "      <td>38.557499</td>\n",
              "      <td>39.480000</td>\n",
              "      <td>38.326294</td>\n",
              "      <td>148158800</td>\n",
              "    </tr>\n",
              "    <tr>\n",
              "      <th>2019-01-03</th>\n",
              "      <td>35.994999</td>\n",
              "      <td>36.430000</td>\n",
              "      <td>35.500000</td>\n",
              "      <td>35.547501</td>\n",
              "      <td>34.508713</td>\n",
              "      <td>365248800</td>\n",
              "    </tr>\n",
              "    <tr>\n",
              "      <th>2019-01-04</th>\n",
              "      <td>36.132500</td>\n",
              "      <td>37.137501</td>\n",
              "      <td>35.950001</td>\n",
              "      <td>37.064999</td>\n",
              "      <td>35.981869</td>\n",
              "      <td>234428400</td>\n",
              "    </tr>\n",
              "    <tr>\n",
              "      <th>2019-01-07</th>\n",
              "      <td>37.174999</td>\n",
              "      <td>37.207500</td>\n",
              "      <td>36.474998</td>\n",
              "      <td>36.982498</td>\n",
              "      <td>35.901768</td>\n",
              "      <td>219111200</td>\n",
              "    </tr>\n",
              "    <tr>\n",
              "      <th>2019-01-08</th>\n",
              "      <td>37.389999</td>\n",
              "      <td>37.955002</td>\n",
              "      <td>37.130001</td>\n",
              "      <td>37.687500</td>\n",
              "      <td>36.586178</td>\n",
              "      <td>164101200</td>\n",
              "    </tr>\n",
              "  </tbody>\n",
              "</table>\n",
              "</div>"
            ],
            "text/plain": [
              "                 Open       High        Low      Close  Adj Close     Volume\n",
              "Date                                                                        \n",
              "2019-01-02  38.722500  39.712502  38.557499  39.480000  38.326294  148158800\n",
              "2019-01-03  35.994999  36.430000  35.500000  35.547501  34.508713  365248800\n",
              "2019-01-04  36.132500  37.137501  35.950001  37.064999  35.981869  234428400\n",
              "2019-01-07  37.174999  37.207500  36.474998  36.982498  35.901768  219111200\n",
              "2019-01-08  37.389999  37.955002  37.130001  37.687500  36.586178  164101200"
            ]
          },
          "metadata": {},
          "execution_count": 7
        }
      ]
    },
    {
      "cell_type": "code",
      "metadata": {
        "colab": {
          "base_uri": "https://localhost:8080/",
          "height": 450
        },
        "id": "-HqOpqtsA52p",
        "outputId": "c3c1aff6-7a44-47c8-a098-17b8824109be"
      },
      "source": [
        "df['MA20']=df['Adj Close'].rolling(20).mean()\n",
        "df['MA50']=df['Adj Close'].rolling(50).mean()\n",
        "df"
      ],
      "execution_count": 8,
      "outputs": [
        {
          "output_type": "execute_result",
          "data": {
            "text/html": [
              "<div>\n",
              "<style scoped>\n",
              "    .dataframe tbody tr th:only-of-type {\n",
              "        vertical-align: middle;\n",
              "    }\n",
              "\n",
              "    .dataframe tbody tr th {\n",
              "        vertical-align: top;\n",
              "    }\n",
              "\n",
              "    .dataframe thead th {\n",
              "        text-align: right;\n",
              "    }\n",
              "</style>\n",
              "<table border=\"1\" class=\"dataframe\">\n",
              "  <thead>\n",
              "    <tr style=\"text-align: right;\">\n",
              "      <th></th>\n",
              "      <th>Open</th>\n",
              "      <th>High</th>\n",
              "      <th>Low</th>\n",
              "      <th>Close</th>\n",
              "      <th>Adj Close</th>\n",
              "      <th>Volume</th>\n",
              "      <th>MA20</th>\n",
              "      <th>MA50</th>\n",
              "    </tr>\n",
              "    <tr>\n",
              "      <th>Date</th>\n",
              "      <th></th>\n",
              "      <th></th>\n",
              "      <th></th>\n",
              "      <th></th>\n",
              "      <th></th>\n",
              "      <th></th>\n",
              "      <th></th>\n",
              "      <th></th>\n",
              "    </tr>\n",
              "  </thead>\n",
              "  <tbody>\n",
              "    <tr>\n",
              "      <th>2019-01-02</th>\n",
              "      <td>38.722500</td>\n",
              "      <td>39.712502</td>\n",
              "      <td>38.557499</td>\n",
              "      <td>39.480000</td>\n",
              "      <td>38.326294</td>\n",
              "      <td>148158800</td>\n",
              "      <td>NaN</td>\n",
              "      <td>NaN</td>\n",
              "    </tr>\n",
              "    <tr>\n",
              "      <th>2019-01-03</th>\n",
              "      <td>35.994999</td>\n",
              "      <td>36.430000</td>\n",
              "      <td>35.500000</td>\n",
              "      <td>35.547501</td>\n",
              "      <td>34.508713</td>\n",
              "      <td>365248800</td>\n",
              "      <td>NaN</td>\n",
              "      <td>NaN</td>\n",
              "    </tr>\n",
              "    <tr>\n",
              "      <th>2019-01-04</th>\n",
              "      <td>36.132500</td>\n",
              "      <td>37.137501</td>\n",
              "      <td>35.950001</td>\n",
              "      <td>37.064999</td>\n",
              "      <td>35.981869</td>\n",
              "      <td>234428400</td>\n",
              "      <td>NaN</td>\n",
              "      <td>NaN</td>\n",
              "    </tr>\n",
              "    <tr>\n",
              "      <th>2019-01-07</th>\n",
              "      <td>37.174999</td>\n",
              "      <td>37.207500</td>\n",
              "      <td>36.474998</td>\n",
              "      <td>36.982498</td>\n",
              "      <td>35.901768</td>\n",
              "      <td>219111200</td>\n",
              "      <td>NaN</td>\n",
              "      <td>NaN</td>\n",
              "    </tr>\n",
              "    <tr>\n",
              "      <th>2019-01-08</th>\n",
              "      <td>37.389999</td>\n",
              "      <td>37.955002</td>\n",
              "      <td>37.130001</td>\n",
              "      <td>37.687500</td>\n",
              "      <td>36.586178</td>\n",
              "      <td>164101200</td>\n",
              "      <td>NaN</td>\n",
              "      <td>NaN</td>\n",
              "    </tr>\n",
              "    <tr>\n",
              "      <th>...</th>\n",
              "      <td>...</td>\n",
              "      <td>...</td>\n",
              "      <td>...</td>\n",
              "      <td>...</td>\n",
              "      <td>...</td>\n",
              "      <td>...</td>\n",
              "      <td>...</td>\n",
              "      <td>...</td>\n",
              "    </tr>\n",
              "    <tr>\n",
              "      <th>2021-11-23</th>\n",
              "      <td>161.119995</td>\n",
              "      <td>161.800003</td>\n",
              "      <td>159.059998</td>\n",
              "      <td>161.410004</td>\n",
              "      <td>161.410004</td>\n",
              "      <td>96041900</td>\n",
              "      <td>152.238300</td>\n",
              "      <td>147.710216</td>\n",
              "    </tr>\n",
              "    <tr>\n",
              "      <th>2021-11-24</th>\n",
              "      <td>160.750000</td>\n",
              "      <td>162.139999</td>\n",
              "      <td>159.639999</td>\n",
              "      <td>161.940002</td>\n",
              "      <td>161.940002</td>\n",
              "      <td>69463600</td>\n",
              "      <td>152.903645</td>\n",
              "      <td>147.972760</td>\n",
              "    </tr>\n",
              "    <tr>\n",
              "      <th>2021-11-26</th>\n",
              "      <td>159.570007</td>\n",
              "      <td>160.449997</td>\n",
              "      <td>156.360001</td>\n",
              "      <td>156.809998</td>\n",
              "      <td>156.809998</td>\n",
              "      <td>76959800</td>\n",
              "      <td>153.126762</td>\n",
              "      <td>148.137497</td>\n",
              "    </tr>\n",
              "    <tr>\n",
              "      <th>2021-11-29</th>\n",
              "      <td>159.369995</td>\n",
              "      <td>161.190002</td>\n",
              "      <td>158.789993</td>\n",
              "      <td>160.240005</td>\n",
              "      <td>160.240005</td>\n",
              "      <td>88748200</td>\n",
              "      <td>153.659678</td>\n",
              "      <td>148.425355</td>\n",
              "    </tr>\n",
              "    <tr>\n",
              "      <th>2021-11-30</th>\n",
              "      <td>159.990005</td>\n",
              "      <td>165.520004</td>\n",
              "      <td>159.919998</td>\n",
              "      <td>165.300003</td>\n",
              "      <td>165.300003</td>\n",
              "      <td>173758500</td>\n",
              "      <td>154.487532</td>\n",
              "      <td>148.876721</td>\n",
              "    </tr>\n",
              "  </tbody>\n",
              "</table>\n",
              "<p>735 rows × 8 columns</p>\n",
              "</div>"
            ],
            "text/plain": [
              "                  Open        High  ...        MA20        MA50\n",
              "Date                                ...                        \n",
              "2019-01-02   38.722500   39.712502  ...         NaN         NaN\n",
              "2019-01-03   35.994999   36.430000  ...         NaN         NaN\n",
              "2019-01-04   36.132500   37.137501  ...         NaN         NaN\n",
              "2019-01-07   37.174999   37.207500  ...         NaN         NaN\n",
              "2019-01-08   37.389999   37.955002  ...         NaN         NaN\n",
              "...                ...         ...  ...         ...         ...\n",
              "2021-11-23  161.119995  161.800003  ...  152.238300  147.710216\n",
              "2021-11-24  160.750000  162.139999  ...  152.903645  147.972760\n",
              "2021-11-26  159.570007  160.449997  ...  153.126762  148.137497\n",
              "2021-11-29  159.369995  161.190002  ...  153.659678  148.425355\n",
              "2021-11-30  159.990005  165.520004  ...  154.487532  148.876721\n",
              "\n",
              "[735 rows x 8 columns]"
            ]
          },
          "metadata": {},
          "execution_count": 8
        }
      ]
    },
    {
      "cell_type": "code",
      "metadata": {
        "colab": {
          "base_uri": "https://localhost:8080/",
          "height": 450
        },
        "id": "j5D4HBH7EcaY",
        "outputId": "847f44b3-a8d8-4ec7-c567-fbf35f1c289f"
      },
      "source": [
        "df=df.dropna()\n",
        "df"
      ],
      "execution_count": 9,
      "outputs": [
        {
          "output_type": "execute_result",
          "data": {
            "text/html": [
              "<div>\n",
              "<style scoped>\n",
              "    .dataframe tbody tr th:only-of-type {\n",
              "        vertical-align: middle;\n",
              "    }\n",
              "\n",
              "    .dataframe tbody tr th {\n",
              "        vertical-align: top;\n",
              "    }\n",
              "\n",
              "    .dataframe thead th {\n",
              "        text-align: right;\n",
              "    }\n",
              "</style>\n",
              "<table border=\"1\" class=\"dataframe\">\n",
              "  <thead>\n",
              "    <tr style=\"text-align: right;\">\n",
              "      <th></th>\n",
              "      <th>Open</th>\n",
              "      <th>High</th>\n",
              "      <th>Low</th>\n",
              "      <th>Close</th>\n",
              "      <th>Adj Close</th>\n",
              "      <th>Volume</th>\n",
              "      <th>MA20</th>\n",
              "      <th>MA50</th>\n",
              "    </tr>\n",
              "    <tr>\n",
              "      <th>Date</th>\n",
              "      <th></th>\n",
              "      <th></th>\n",
              "      <th></th>\n",
              "      <th></th>\n",
              "      <th></th>\n",
              "      <th></th>\n",
              "      <th></th>\n",
              "      <th></th>\n",
              "    </tr>\n",
              "  </thead>\n",
              "  <tbody>\n",
              "    <tr>\n",
              "      <th>2019-03-14</th>\n",
              "      <td>45.974998</td>\n",
              "      <td>46.025002</td>\n",
              "      <td>45.639999</td>\n",
              "      <td>45.932499</td>\n",
              "      <td>44.781467</td>\n",
              "      <td>94318000</td>\n",
              "      <td>42.608815</td>\n",
              "      <td>40.237585</td>\n",
              "    </tr>\n",
              "    <tr>\n",
              "      <th>2019-03-15</th>\n",
              "      <td>46.212502</td>\n",
              "      <td>46.832500</td>\n",
              "      <td>45.935001</td>\n",
              "      <td>46.529999</td>\n",
              "      <td>45.363995</td>\n",
              "      <td>156171600</td>\n",
              "      <td>42.795516</td>\n",
              "      <td>40.378339</td>\n",
              "    </tr>\n",
              "    <tr>\n",
              "      <th>2019-03-18</th>\n",
              "      <td>46.450001</td>\n",
              "      <td>47.097500</td>\n",
              "      <td>46.447498</td>\n",
              "      <td>47.005001</td>\n",
              "      <td>45.827095</td>\n",
              "      <td>104879200</td>\n",
              "      <td>43.010003</td>\n",
              "      <td>40.604706</td>\n",
              "    </tr>\n",
              "    <tr>\n",
              "      <th>2019-03-19</th>\n",
              "      <td>47.087502</td>\n",
              "      <td>47.247501</td>\n",
              "      <td>46.480000</td>\n",
              "      <td>46.632500</td>\n",
              "      <td>45.463936</td>\n",
              "      <td>126585600</td>\n",
              "      <td>43.200117</td>\n",
              "      <td>40.794348</td>\n",
              "    </tr>\n",
              "    <tr>\n",
              "      <th>2019-03-20</th>\n",
              "      <td>46.557499</td>\n",
              "      <td>47.372501</td>\n",
              "      <td>46.182499</td>\n",
              "      <td>47.040001</td>\n",
              "      <td>45.861217</td>\n",
              "      <td>124140800</td>\n",
              "      <td>43.396689</td>\n",
              "      <td>40.993537</td>\n",
              "    </tr>\n",
              "    <tr>\n",
              "      <th>...</th>\n",
              "      <td>...</td>\n",
              "      <td>...</td>\n",
              "      <td>...</td>\n",
              "      <td>...</td>\n",
              "      <td>...</td>\n",
              "      <td>...</td>\n",
              "      <td>...</td>\n",
              "      <td>...</td>\n",
              "    </tr>\n",
              "    <tr>\n",
              "      <th>2021-11-23</th>\n",
              "      <td>161.119995</td>\n",
              "      <td>161.800003</td>\n",
              "      <td>159.059998</td>\n",
              "      <td>161.410004</td>\n",
              "      <td>161.410004</td>\n",
              "      <td>96041900</td>\n",
              "      <td>152.238300</td>\n",
              "      <td>147.710216</td>\n",
              "    </tr>\n",
              "    <tr>\n",
              "      <th>2021-11-24</th>\n",
              "      <td>160.750000</td>\n",
              "      <td>162.139999</td>\n",
              "      <td>159.639999</td>\n",
              "      <td>161.940002</td>\n",
              "      <td>161.940002</td>\n",
              "      <td>69463600</td>\n",
              "      <td>152.903645</td>\n",
              "      <td>147.972760</td>\n",
              "    </tr>\n",
              "    <tr>\n",
              "      <th>2021-11-26</th>\n",
              "      <td>159.570007</td>\n",
              "      <td>160.449997</td>\n",
              "      <td>156.360001</td>\n",
              "      <td>156.809998</td>\n",
              "      <td>156.809998</td>\n",
              "      <td>76959800</td>\n",
              "      <td>153.126762</td>\n",
              "      <td>148.137497</td>\n",
              "    </tr>\n",
              "    <tr>\n",
              "      <th>2021-11-29</th>\n",
              "      <td>159.369995</td>\n",
              "      <td>161.190002</td>\n",
              "      <td>158.789993</td>\n",
              "      <td>160.240005</td>\n",
              "      <td>160.240005</td>\n",
              "      <td>88748200</td>\n",
              "      <td>153.659678</td>\n",
              "      <td>148.425355</td>\n",
              "    </tr>\n",
              "    <tr>\n",
              "      <th>2021-11-30</th>\n",
              "      <td>159.990005</td>\n",
              "      <td>165.520004</td>\n",
              "      <td>159.919998</td>\n",
              "      <td>165.300003</td>\n",
              "      <td>165.300003</td>\n",
              "      <td>173758500</td>\n",
              "      <td>154.487532</td>\n",
              "      <td>148.876721</td>\n",
              "    </tr>\n",
              "  </tbody>\n",
              "</table>\n",
              "<p>686 rows × 8 columns</p>\n",
              "</div>"
            ],
            "text/plain": [
              "                  Open        High  ...        MA20        MA50\n",
              "Date                                ...                        \n",
              "2019-03-14   45.974998   46.025002  ...   42.608815   40.237585\n",
              "2019-03-15   46.212502   46.832500  ...   42.795516   40.378339\n",
              "2019-03-18   46.450001   47.097500  ...   43.010003   40.604706\n",
              "2019-03-19   47.087502   47.247501  ...   43.200117   40.794348\n",
              "2019-03-20   46.557499   47.372501  ...   43.396689   40.993537\n",
              "...                ...         ...  ...         ...         ...\n",
              "2021-11-23  161.119995  161.800003  ...  152.238300  147.710216\n",
              "2021-11-24  160.750000  162.139999  ...  152.903645  147.972760\n",
              "2021-11-26  159.570007  160.449997  ...  153.126762  148.137497\n",
              "2021-11-29  159.369995  161.190002  ...  153.659678  148.425355\n",
              "2021-11-30  159.990005  165.520004  ...  154.487532  148.876721\n",
              "\n",
              "[686 rows x 8 columns]"
            ]
          },
          "metadata": {},
          "execution_count": 9
        }
      ]
    },
    {
      "cell_type": "code",
      "metadata": {
        "colab": {
          "base_uri": "https://localhost:8080/",
          "height": 450
        },
        "id": "oaa8MQLDEhqa",
        "outputId": "a4156ec6-0236-45eb-e1f0-30f71f109502"
      },
      "source": [
        "df=df[['Adj Close','MA20','MA50']]\n",
        "df"
      ],
      "execution_count": 10,
      "outputs": [
        {
          "output_type": "execute_result",
          "data": {
            "text/html": [
              "<div>\n",
              "<style scoped>\n",
              "    .dataframe tbody tr th:only-of-type {\n",
              "        vertical-align: middle;\n",
              "    }\n",
              "\n",
              "    .dataframe tbody tr th {\n",
              "        vertical-align: top;\n",
              "    }\n",
              "\n",
              "    .dataframe thead th {\n",
              "        text-align: right;\n",
              "    }\n",
              "</style>\n",
              "<table border=\"1\" class=\"dataframe\">\n",
              "  <thead>\n",
              "    <tr style=\"text-align: right;\">\n",
              "      <th></th>\n",
              "      <th>Adj Close</th>\n",
              "      <th>MA20</th>\n",
              "      <th>MA50</th>\n",
              "    </tr>\n",
              "    <tr>\n",
              "      <th>Date</th>\n",
              "      <th></th>\n",
              "      <th></th>\n",
              "      <th></th>\n",
              "    </tr>\n",
              "  </thead>\n",
              "  <tbody>\n",
              "    <tr>\n",
              "      <th>2019-03-14</th>\n",
              "      <td>44.781467</td>\n",
              "      <td>42.608815</td>\n",
              "      <td>40.237585</td>\n",
              "    </tr>\n",
              "    <tr>\n",
              "      <th>2019-03-15</th>\n",
              "      <td>45.363995</td>\n",
              "      <td>42.795516</td>\n",
              "      <td>40.378339</td>\n",
              "    </tr>\n",
              "    <tr>\n",
              "      <th>2019-03-18</th>\n",
              "      <td>45.827095</td>\n",
              "      <td>43.010003</td>\n",
              "      <td>40.604706</td>\n",
              "    </tr>\n",
              "    <tr>\n",
              "      <th>2019-03-19</th>\n",
              "      <td>45.463936</td>\n",
              "      <td>43.200117</td>\n",
              "      <td>40.794348</td>\n",
              "    </tr>\n",
              "    <tr>\n",
              "      <th>2019-03-20</th>\n",
              "      <td>45.861217</td>\n",
              "      <td>43.396689</td>\n",
              "      <td>40.993537</td>\n",
              "    </tr>\n",
              "    <tr>\n",
              "      <th>...</th>\n",
              "      <td>...</td>\n",
              "      <td>...</td>\n",
              "      <td>...</td>\n",
              "    </tr>\n",
              "    <tr>\n",
              "      <th>2021-11-23</th>\n",
              "      <td>161.410004</td>\n",
              "      <td>152.238300</td>\n",
              "      <td>147.710216</td>\n",
              "    </tr>\n",
              "    <tr>\n",
              "      <th>2021-11-24</th>\n",
              "      <td>161.940002</td>\n",
              "      <td>152.903645</td>\n",
              "      <td>147.972760</td>\n",
              "    </tr>\n",
              "    <tr>\n",
              "      <th>2021-11-26</th>\n",
              "      <td>156.809998</td>\n",
              "      <td>153.126762</td>\n",
              "      <td>148.137497</td>\n",
              "    </tr>\n",
              "    <tr>\n",
              "      <th>2021-11-29</th>\n",
              "      <td>160.240005</td>\n",
              "      <td>153.659678</td>\n",
              "      <td>148.425355</td>\n",
              "    </tr>\n",
              "    <tr>\n",
              "      <th>2021-11-30</th>\n",
              "      <td>165.300003</td>\n",
              "      <td>154.487532</td>\n",
              "      <td>148.876721</td>\n",
              "    </tr>\n",
              "  </tbody>\n",
              "</table>\n",
              "<p>686 rows × 3 columns</p>\n",
              "</div>"
            ],
            "text/plain": [
              "             Adj Close        MA20        MA50\n",
              "Date                                          \n",
              "2019-03-14   44.781467   42.608815   40.237585\n",
              "2019-03-15   45.363995   42.795516   40.378339\n",
              "2019-03-18   45.827095   43.010003   40.604706\n",
              "2019-03-19   45.463936   43.200117   40.794348\n",
              "2019-03-20   45.861217   43.396689   40.993537\n",
              "...                ...         ...         ...\n",
              "2021-11-23  161.410004  152.238300  147.710216\n",
              "2021-11-24  161.940002  152.903645  147.972760\n",
              "2021-11-26  156.809998  153.126762  148.137497\n",
              "2021-11-29  160.240005  153.659678  148.425355\n",
              "2021-11-30  165.300003  154.487532  148.876721\n",
              "\n",
              "[686 rows x 3 columns]"
            ]
          },
          "metadata": {},
          "execution_count": 10
        }
      ]
    },
    {
      "cell_type": "code",
      "metadata": {
        "id": "UElBGnoOFz6a"
      },
      "source": [
        "Buy=[]\n",
        "Sell=[]\n",
        "for i in range(len(df)):\n",
        "  if df.MA20.iloc[i] > df.MA50.iloc[i] and df.MA20.iloc[i-1] < df.MA50.iloc[i-1]:\n",
        "    Buy.append(i)\n",
        "  elif df.MA20.iloc[i] < df.MA50.iloc[i] and df.MA20.iloc[i-1] > df.MA50.iloc[i-1]:\n",
        "    Sell.append(i)\n"
      ],
      "execution_count": 11,
      "outputs": []
    },
    {
      "cell_type": "code",
      "metadata": {
        "colab": {
          "base_uri": "https://localhost:8080/"
        },
        "id": "ux7qTr6oSgnZ",
        "outputId": "7d17292b-c730-4dc9-8e08-a758f63b8d34"
      },
      "source": [
        "Buy"
      ],
      "execution_count": 12,
      "outputs": [
        {
          "output_type": "execute_result",
          "data": {
            "text/plain": [
              "[75, 285, 417, 528, 577, 668]"
            ]
          },
          "metadata": {},
          "execution_count": 12
        }
      ]
    },
    {
      "cell_type": "code",
      "metadata": {
        "colab": {
          "base_uri": "https://localhost:8080/"
        },
        "id": "NoU5J3acTIfh",
        "outputId": "5ba976df-ef74-41d1-ade6-bde51cfc98de"
      },
      "source": [
        "Sell"
      ],
      "execution_count": 13,
      "outputs": [
        {
          "output_type": "execute_result",
          "data": {
            "text/plain": [
              "[50, 247, 393, 493, 555, 644]"
            ]
          },
          "metadata": {},
          "execution_count": 13
        }
      ]
    },
    {
      "cell_type": "code",
      "metadata": {
        "colab": {
          "base_uri": "https://localhost:8080/",
          "height": 320
        },
        "id": "cU_tdg1BTJ7M",
        "outputId": "d811d2a1-2387-4b40-c394-eb5ab9d311d5"
      },
      "source": [
        "plt.figure(figsize=(12,5))\n",
        "plt.plot(df['Adj Close'], label='Asset Price' , c='blue', alpha=0.5)\n",
        "plt.plot(df['MA20'] ,label='MA20', c='black', alpha=0.9)\n",
        "plt.plot(df['MA50'] , label='MA50', c='magenta', alpha=0.9)\n",
        "plt.scatter(df.iloc[Buy].index, df.iloc[Buy]['Adj Close'] , marker='^' , color='green', s=100)\n",
        "plt.scatter(df.iloc[Sell].index, df.iloc[Sell]['Adj Close'] , marker='v' , color='red', s=100)\n",
        "plt.legend()\n",
        "plt.show()"
      ],
      "execution_count": 18,
      "outputs": [
        {
          "output_type": "display_data",
          "data": {
            "image/png": "[encoded data removed]",
            "text/plain": [
              "<Figure size 864x360 with 1 Axes>"
            ]
          },
          "metadata": {
            "needs_background": "light"
          }
        }
      ]
    },
    {
      "cell_type": "code",
      "metadata": {
        "id": "AyBwpuiNYBng"
      },
      "source": [
        ""
      ],
      "execution_count": null,
      "outputs": []
    }
  ]
}